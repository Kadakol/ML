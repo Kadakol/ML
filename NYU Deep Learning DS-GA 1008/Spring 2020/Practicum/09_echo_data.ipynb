{
  "nbformat": 4,
  "nbformat_minor": 0,
  "metadata": {
    "colab": {
      "name": "09-echo_data.ipynb",
      "provenance": [],
      "collapsed_sections": [],
      "authorship_tag": "ABX9TyM9U5g0579NTZv0nwUmWyGD",
      "include_colab_link": true
    },
    "kernelspec": {
      "name": "python3",
      "display_name": "Python 3"
    },
    "language_info": {
      "name": "python"
    }
  },
  "cells": [
    {
      "cell_type": "markdown",
      "metadata": {
        "id": "view-in-github",
        "colab_type": "text"
      },
      "source": [
        "<a href=\"https://colab.research.google.com/github/Kadakol/ML/blob/master/NYU%20Deep%20Learning%20DS-GA%201008/Spring%202020/Practicum/09_echo_data.ipynb\" target=\"_parent\"><img src=\"https://colab.research.google.com/assets/colab-badge.svg\" alt=\"Open In Colab\"/></a>"
      ]
    },
    {
      "cell_type": "markdown",
      "metadata": {
        "id": "qYNZ3FnEvqtn"
      },
      "source": [
        "# Setup"
      ]
    },
    {
      "cell_type": "code",
      "metadata": {
        "id": "7HiZ1XDBvcSR"
      },
      "source": [
        "import numpy as np\n",
        "\n",
        "class EchoData():\n",
        "\n",
        "    def __init__(self, series_length=40000, batch_size=32,\n",
        "                 echo_step=3, truncated_length=10, seed=None):\n",
        "\n",
        "        self.series_length = series_length\n",
        "        self.truncated_length = truncated_length\n",
        "        self.n_batches = series_length//truncated_length\n",
        "\n",
        "        self.echo_step = echo_step\n",
        "        self.batch_size = batch_size\n",
        "        if seed is not None:\n",
        "            np.random.seed(seed)\n",
        "        self.x_batch = None\n",
        "        self.y_batch = None\n",
        "        self.x_chunks = []\n",
        "        self.y_chunks = []\n",
        "        self.generate_new_series()\n",
        "        self.prepare_batches()\n",
        "\n",
        "    def __getitem__(self, index):\n",
        "        if index == 0:\n",
        "            self.generate_new_series()\n",
        "            self.prepare_batches()\n",
        "        return self.x_chunks[index], self.y_chunks[index]\n",
        "\n",
        "    def __len__(self):\n",
        "        return self.n_batches\n",
        "\n",
        "    def generate_new_series(self):\n",
        "        x = np.random.choice(\n",
        "            2,\n",
        "            size=(self.batch_size, self.series_length),\n",
        "            p=[0.5, 0.5])\n",
        "        y = np.roll(x, self.echo_step, axis=1)\n",
        "        y[:, 0:self.echo_step] = 0\n",
        "        self.x_batch = x\n",
        "        self.y_batch = y\n",
        "\n",
        "    def prepare_batches(self):\n",
        "        x = np.expand_dims(self.x_batch, axis=-1)\n",
        "        y = np.expand_dims(self.y_batch, axis=-1)\n",
        "        self.x_chunks = np.split(x, self.n_batches, axis=1)\n",
        "        self.y_chunks = np.split(y, self.n_batches, axis=1)"
      ],
      "execution_count": 1,
      "outputs": []
    },
    {
      "cell_type": "code",
      "metadata": {
        "id": "tLAaldzCvs62"
      },
      "source": [
        "import torch\n",
        "import torch.nn as nn\n",
        "# import torch.nn.functional as F\n",
        "import torch.optim as optim\n",
        "\n",
        "torch.manual_seed(1);"
      ],
      "execution_count": 2,
      "outputs": []
    },
    {
      "cell_type": "code",
      "metadata": {
        "id": "jFfCdg6qxyor"
      },
      "source": [
        "batch_size = 5\n",
        "echo_step = 3\n",
        "series_length = 20_000\n",
        "BPTT_T = 20\n",
        "\n",
        "train_data = EchoData(\n",
        "    echo_step=echo_step,\n",
        "    batch_size=batch_size,\n",
        "    series_length=series_length,\n",
        "    truncated_length=BPTT_T,\n",
        ")\n",
        "train_size = len(train_data)\n",
        "\n",
        "test_data = EchoData(\n",
        "    echo_step=echo_step,\n",
        "    batch_size=batch_size,\n",
        "    series_length=series_length,\n",
        "    truncated_length=BPTT_T,\n",
        ")\n",
        "test_size = len(test_data)"
      ],
      "execution_count": 3,
      "outputs": []
    },
    {
      "cell_type": "code",
      "metadata": {
        "colab": {
          "base_uri": "https://localhost:8080/"
        },
        "id": "3Zl5cGwoyEdI",
        "outputId": "6e195175-08d9-45c6-bbc4-b56652ccf68d"
      },
      "source": [
        "# Let's print first 20 timesteps of the first sequences to see the echo data:\n",
        "print('(1st input sequence)  x:', *train_data.x_batch[0, :20], '... ')\n",
        "print('(1st target sequence) y:', *train_data.y_batch[0, :20], '... ')"
      ],
      "execution_count": 4,
      "outputs": [
        {
          "output_type": "stream",
          "text": [
            "(1st input sequence)  x: 1 1 0 1 0 1 1 1 1 0 1 0 1 0 0 0 0 1 0 0 ... \n",
            "(1st target sequence) y: 0 0 0 1 1 0 1 0 1 1 1 1 0 1 0 1 0 0 0 0 ... \n"
          ],
          "name": "stdout"
        }
      ]
    },
    {
      "cell_type": "code",
      "metadata": {
        "colab": {
          "base_uri": "https://localhost:8080/"
        },
        "id": "QGlDLksLycyZ",
        "outputId": "3c157968-bac5-4eeb-cebc-641f2037d13f"
      },
      "source": [
        "# batch_size different sequences are created:\n",
        "print('x_batch:', *(str(d)[1:-1] + ' ...' for d in train_data.x_batch[:, :20]), sep='\\n')\n",
        "print('x_batch size:', train_data.x_batch.shape)\n",
        "print()\n",
        "print('y_batch:', *(str(d)[1:-1] + ' ...' for d in train_data.y_batch[:, :20]), sep='\\n')\n",
        "print('y_batch size:', train_data.y_batch.shape)"
      ],
      "execution_count": 5,
      "outputs": [
        {
          "output_type": "stream",
          "text": [
            "x_batch:\n",
            "1 1 0 1 0 1 1 1 1 0 1 0 1 0 0 0 0 1 0 0 ...\n",
            "0 0 0 0 0 1 0 0 1 1 0 0 1 1 0 0 1 1 0 0 ...\n",
            "1 0 0 0 1 0 0 0 0 1 0 0 0 1 1 0 1 1 0 1 ...\n",
            "1 0 1 1 1 0 0 0 1 0 0 1 1 1 0 0 0 1 1 1 ...\n",
            "0 0 0 0 1 0 0 1 1 0 1 0 1 1 1 0 1 1 1 0 ...\n",
            "x_batch size: (5, 20000)\n",
            "\n",
            "y_batch:\n",
            "0 0 0 1 1 0 1 0 1 1 1 1 0 1 0 1 0 0 0 0 ...\n",
            "0 0 0 0 0 0 0 0 1 0 0 1 1 0 0 1 1 0 0 1 ...\n",
            "0 0 0 1 0 0 0 1 0 0 0 0 1 0 0 0 1 1 0 1 ...\n",
            "0 0 0 1 0 1 1 1 0 0 0 1 0 0 1 1 1 0 0 0 ...\n",
            "0 0 0 0 0 0 0 1 0 0 1 1 0 1 0 1 1 1 0 1 ...\n",
            "y_batch size: (5, 20000)\n"
          ],
          "name": "stdout"
        }
      ]
    },
    {
      "cell_type": "code",
      "metadata": {
        "colab": {
          "base_uri": "https://localhost:8080/"
        },
        "id": "LqCWB9oWyfrj",
        "outputId": "d013e6c2-e8cc-4583-c600-cab30abacd5c"
      },
      "source": [
        "# In order to use RNNs data is organized into temporal\n",
        "# chunks of size [batch_size, T, feature_dim]\n",
        "print('x_chunk:', *train_data.x_chunks[0].squeeze(), sep='\\n')\n",
        "print('1st x_chunk size:', train_data.x_chunks[0].shape)\n",
        "print()\n",
        "print('y_chunk:', *train_data.y_chunks[0].squeeze(), sep='\\n')\n",
        "print('1st y_chunk size:', train_data.y_chunks[0].shape)"
      ],
      "execution_count": 6,
      "outputs": [
        {
          "output_type": "stream",
          "text": [
            "x_chunk:\n",
            "[1 1 0 1 0 1 1 1 1 0 1 0 1 0 0 0 0 1 0 0]\n",
            "[0 0 0 0 0 1 0 0 1 1 0 0 1 1 0 0 1 1 0 0]\n",
            "[1 0 0 0 1 0 0 0 0 1 0 0 0 1 1 0 1 1 0 1]\n",
            "[1 0 1 1 1 0 0 0 1 0 0 1 1 1 0 0 0 1 1 1]\n",
            "[0 0 0 0 1 0 0 1 1 0 1 0 1 1 1 0 1 1 1 0]\n",
            "1st x_chunk size: (5, 20, 1)\n",
            "\n",
            "y_chunk:\n",
            "[0 0 0 1 1 0 1 0 1 1 1 1 0 1 0 1 0 0 0 0]\n",
            "[0 0 0 0 0 0 0 0 1 0 0 1 1 0 0 1 1 0 0 1]\n",
            "[0 0 0 1 0 0 0 1 0 0 0 0 1 0 0 0 1 1 0 1]\n",
            "[0 0 0 1 0 1 1 1 0 0 0 1 0 0 1 1 1 0 0 0]\n",
            "[0 0 0 0 0 0 0 1 0 0 1 1 0 1 0 1 1 1 0 1]\n",
            "1st y_chunk size: (5, 20, 1)\n"
          ],
          "name": "stdout"
        }
      ]
    },
    {
      "cell_type": "code",
      "metadata": {
        "id": "OcXrdWytyj_e"
      },
      "source": [
        "class SimpleRNN(nn.Module):\n",
        "    def __init__(self, input_size, rnn_hidden_size, output_size):\n",
        "        super().__init__()\n",
        "        self.rnn_hidden_size = rnn_hidden_size\n",
        "        self.rnn = torch.nn.RNN(\n",
        "            input_size=input_size,\n",
        "            hidden_size=rnn_hidden_size,\n",
        "            num_layers=1,\n",
        "            nonlinearity='relu',\n",
        "            batch_first=True\n",
        "        )\n",
        "        self.linear = torch.nn.Linear(\n",
        "            in_features=rnn_hidden_size,\n",
        "            out_features=1\n",
        "        )\n",
        "\n",
        "    def forward(self, x, hidden):\n",
        "        x, hidden = self.rnn(x, hidden)  \n",
        "        x = self.linear(x)\n",
        "        return x, hidden"
      ],
      "execution_count": 7,
      "outputs": []
    },
    {
      "cell_type": "code",
      "metadata": {
        "id": "njawbvCzyvNV"
      },
      "source": [
        "device = torch.device(\"cuda:0\" if torch.cuda.is_available() else \"cpu\")"
      ],
      "execution_count": 8,
      "outputs": []
    },
    {
      "cell_type": "code",
      "metadata": {
        "id": "cDwU5t6Xywo_"
      },
      "source": [
        "def train(hidden):\n",
        "    model.train()\n",
        "       \n",
        "    correct = 0\n",
        "    for batch_idx in range(train_size):\n",
        "        data, target = train_data[batch_idx]\n",
        "        data, target = torch.from_numpy(data).float().to(device), torch.from_numpy(target).float().to(device)\n",
        "        optimizer.zero_grad()\n",
        "        if hidden is not None: hidden.detach_()\n",
        "        logits, hidden = model(data, hidden)\n",
        "        loss = criterion(logits, target)\n",
        "        loss.backward()\n",
        "        optimizer.step()\n",
        "        \n",
        "        pred = (torch.sigmoid(logits) > 0.5)\n",
        "        correct += (pred == target.byte()).int().sum().item()\n",
        "        \n",
        "    return correct, loss.item(), hidden"
      ],
      "execution_count": 9,
      "outputs": []
    },
    {
      "cell_type": "code",
      "metadata": {
        "id": "ThO6_xD0yx9Q"
      },
      "source": [
        "def test(hidden):\n",
        "    model.eval()   \n",
        "    correct = 0\n",
        "    with torch.no_grad():\n",
        "        for batch_idx in range(test_size):\n",
        "            data, target = test_data[batch_idx]\n",
        "            data, target = torch.from_numpy(data).float().to(device), torch.from_numpy(target).float().to(device)\n",
        "            logits, hidden = model(data, hidden)\n",
        "            \n",
        "            pred = (torch.sigmoid(logits) > 0.5)\n",
        "            correct += (pred == target.byte()).int().sum().item()\n",
        "\n",
        "    return correct"
      ],
      "execution_count": 10,
      "outputs": []
    },
    {
      "cell_type": "code",
      "metadata": {
        "id": "Y6RlwUrey1e8"
      },
      "source": [
        "feature_dim = 1 #since we have a scalar series\n",
        "h_units = 4\n",
        "\n",
        "model = SimpleRNN(\n",
        "    input_size=1,\n",
        "    rnn_hidden_size=h_units,\n",
        "    output_size=feature_dim\n",
        ").to(device)\n",
        "hidden = None\n",
        "        \n",
        "criterion = torch.nn.BCEWithLogitsLoss()\n",
        "optimizer = torch.optim.RMSprop(model.parameters(), lr=0.001)"
      ],
      "execution_count": 11,
      "outputs": []
    },
    {
      "cell_type": "code",
      "metadata": {
        "colab": {
          "base_uri": "https://localhost:8080/"
        },
        "id": "08A4B35Ny3ku",
        "outputId": "0ca526ec-e32f-494d-f8a3-6d5dc12645c5"
      },
      "source": [
        "n_epochs = 5\n",
        "epoch = 0\n",
        "\n",
        "while epoch < n_epochs:\n",
        "    correct, loss, hidden = train(hidden)\n",
        "    epoch += 1\n",
        "    train_accuracy = float(correct) / train_size\n",
        "    print(f'Train Epoch: {epoch}/{n_epochs}, loss: {loss:.3f}, accuracy {train_accuracy:.1f}%')\n",
        "\n",
        "#test    \n",
        "correct = test(hidden)\n",
        "test_accuracy = float(correct) / test_size\n",
        "print(f'Test accuracy: {test_accuracy:.1f}%')"
      ],
      "execution_count": 12,
      "outputs": [
        {
          "output_type": "stream",
          "text": [
            "Train Epoch: 1/5, loss: 0.707, accuracy 57.1%\n",
            "Train Epoch: 2/5, loss: 0.557, accuracy 65.2%\n",
            "Train Epoch: 3/5, loss: 0.435, accuracy 73.0%\n",
            "Train Epoch: 4/5, loss: 0.325, accuracy 80.6%\n",
            "Train Epoch: 5/5, loss: 0.344, accuracy 83.7%\n",
            "Test accuracy: 84.2%\n"
          ],
          "name": "stdout"
        }
      ]
    },
    {
      "cell_type": "code",
      "metadata": {
        "colab": {
          "base_uri": "https://localhost:8080/"
        },
        "id": "V4Id1IJZy5Bn",
        "outputId": "6a165c6f-ea83-48b0-c3a3-f05d77f2aff0"
      },
      "source": [
        "# Let's try some echoing\n",
        "my_input = torch.empty(1, 100, 1).random_(2).to(device)\n",
        "hidden = None\n",
        "my_out, _ = model(my_input, hidden)\n",
        "print(my_input.view(1, -1).byte(), (my_out > 0).view(1, -1), sep='\\n')"
      ],
      "execution_count": 13,
      "outputs": [
        {
          "output_type": "stream",
          "text": [
            "tensor([[1, 1, 1, 1, 0, 0, 0, 1, 1, 1, 1, 1, 1, 0, 1, 1, 0, 0, 1, 0, 0, 1, 1, 1,\n",
            "         0, 1, 0, 0, 1, 1, 0, 1, 1, 1, 1, 0, 0, 1, 1, 0, 0, 0, 0, 1, 1, 1, 0, 1,\n",
            "         0, 0, 1, 1, 0, 1, 1, 0, 1, 0, 0, 1, 1, 1, 0, 1, 1, 0, 1, 1, 1, 1, 0, 0,\n",
            "         0, 0, 0, 1, 1, 1, 1, 1, 1, 1, 0, 0, 0, 0, 0, 0, 1, 1, 1, 1, 1, 1, 0, 0,\n",
            "         1, 1, 0, 0]], dtype=torch.uint8)\n",
            "tensor([[ True, False, False,  True, False, False,  True,  True, False, False,\n",
            "          True, False, False, False,  True,  True, False,  True,  True, False,\n",
            "         False,  True, False, False,  True,  True,  True, False,  True, False,\n",
            "         False,  True,  True, False,  True, False, False,  True, False, False,\n",
            "          True,  True, False,  True,  True, False,  True,  True,  True, False,\n",
            "          True, False, False,  True,  True, False,  True,  True, False,  True,\n",
            "         False, False,  True,  True,  True, False,  True,  True, False,  True,\n",
            "          True, False,  True, False,  True,  True, False, False,  True, False,\n",
            "         False, False, False, False,  True, False,  True,  True,  True, False,\n",
            "         False,  True, False, False, False,  True,  True, False, False,  True]])\n"
          ],
          "name": "stdout"
        }
      ]
    },
    {
      "cell_type": "code",
      "metadata": {
        "id": "7TzSIRROy6PR"
      },
      "source": [
        ""
      ],
      "execution_count": 13,
      "outputs": []
    }
  ]
}