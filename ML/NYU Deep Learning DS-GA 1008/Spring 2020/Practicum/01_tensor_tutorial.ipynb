{
  "nbformat": 4,
  "nbformat_minor": 0,
  "metadata": {
    "colab": {
      "name": "01-tensor_tutorial.ipynb",
      "provenance": [],
      "collapsed_sections": [],
      "authorship_tag": "ABX9TyNasUXR+xFR/DrtdhqzTQmh",
      "include_colab_link": true
    },
    "kernelspec": {
      "name": "python3",
      "display_name": "Python 3"
    },
    "language_info": {
      "name": "python"
    }
  },
  "cells": [
    {
      "cell_type": "markdown",
      "metadata": {
        "id": "view-in-github",
        "colab_type": "text"
      },
      "source": [
        "<a href=\"https://colab.research.google.com/github/Kadakol/ML/blob/master/ML/NYU%20Deep%20Learning%20DS-GA%201008/Spring%202020/Practicum/01_tensor_tutorial.ipynb\" target=\"_parent\"><img src=\"https://colab.research.google.com/assets/colab-badge.svg\" alt=\"Open In Colab\"/></a>"
      ]
    },
    {
      "cell_type": "code",
      "metadata": {
        "id": "n9GhUMylLmbV"
      },
      "source": [
        "import torch"
      ],
      "execution_count": 1,
      "outputs": []
    },
    {
      "cell_type": "code",
      "metadata": {
        "id": "YP8xrBaTLtx2"
      },
      "source": [
        "torch.*Tensor?"
      ],
      "execution_count": 2,
      "outputs": []
    },
    {
      "cell_type": "code",
      "metadata": {
        "colab": {
          "base_uri": "https://localhost:8080/"
        },
        "id": "i4v29eOVMBJQ",
        "outputId": "a1397475-6492-435c-da09-43d42dd64807"
      },
      "source": [
        "torch.nn.Module()"
      ],
      "execution_count": 3,
      "outputs": [
        {
          "output_type": "execute_result",
          "data": {
            "text/plain": [
              "Module()"
            ]
          },
          "metadata": {
            "tags": []
          },
          "execution_count": 3
        }
      ]
    },
    {
      "cell_type": "code",
      "metadata": {
        "id": "_3x4iu_-MJc7"
      },
      "source": [
        "torch.nn.Module?"
      ],
      "execution_count": 4,
      "outputs": []
    },
    {
      "cell_type": "code",
      "metadata": {
        "id": "FKqkK8okML8J"
      },
      "source": [
        "t = torch.Tensor(2, 3, 4)"
      ],
      "execution_count": 5,
      "outputs": []
    },
    {
      "cell_type": "code",
      "metadata": {
        "colab": {
          "base_uri": "https://localhost:8080/"
        },
        "id": "iP3tf3PCMh9s",
        "outputId": "962e2b5c-e9dd-4283-f926-b71ab5d6550a"
      },
      "source": [
        "type(t)"
      ],
      "execution_count": 6,
      "outputs": [
        {
          "output_type": "execute_result",
          "data": {
            "text/plain": [
              "torch.Tensor"
            ]
          },
          "metadata": {
            "tags": []
          },
          "execution_count": 6
        }
      ]
    },
    {
      "cell_type": "code",
      "metadata": {
        "colab": {
          "base_uri": "https://localhost:8080/"
        },
        "id": "LQ-T76BgMjD9",
        "outputId": "2b6f5bf3-5163-4b39-adc8-676249afac7b"
      },
      "source": [
        "t.size()"
      ],
      "execution_count": 7,
      "outputs": [
        {
          "output_type": "execute_result",
          "data": {
            "text/plain": [
              "torch.Size([2, 3, 4])"
            ]
          },
          "metadata": {
            "tags": []
          },
          "execution_count": 7
        }
      ]
    },
    {
      "cell_type": "code",
      "metadata": {
        "colab": {
          "base_uri": "https://localhost:8080/"
        },
        "id": "gTgdhBb-MkI-",
        "outputId": "bebd94d3-fc61-4fff-994b-8612132f8ecc"
      },
      "source": [
        "print('t size:', ' \\u00D7 '.join(map(str, t.size())))"
      ],
      "execution_count": 8,
      "outputs": [
        {
          "output_type": "stream",
          "text": [
            "t size: 2 × 3 × 4\n"
          ],
          "name": "stdout"
        }
      ]
    },
    {
      "cell_type": "code",
      "metadata": {
        "colab": {
          "base_uri": "https://localhost:8080/"
        },
        "id": "ummJ6zISMpzV",
        "outputId": "77e0b7c1-0625-4dbb-d866-5b126f03360e"
      },
      "source": [
        "# prints dimensional space and sub-dimensions\n",
        "print(f'point in a {t.numel()} dimensional space')\n",
        "print(f'organised in {t.dim()} sub-dimensions')"
      ],
      "execution_count": 9,
      "outputs": [
        {
          "output_type": "stream",
          "text": [
            "point in a 24 dimensional space\n",
            "organised in 3 sub-dimensions\n"
          ],
          "name": "stdout"
        }
      ]
    },
    {
      "cell_type": "code",
      "metadata": {
        "colab": {
          "base_uri": "https://localhost:8080/"
        },
        "id": "VZ_707vsMtUt",
        "outputId": "a95482e0-3677-4a63-b195-5959e2a3d0ec"
      },
      "source": [
        "t"
      ],
      "execution_count": 10,
      "outputs": [
        {
          "output_type": "execute_result",
          "data": {
            "text/plain": [
              "tensor([[[-8.6741e-23,  3.0941e-41,  7.0065e-44,  6.8664e-44],\n",
              "         [ 6.3058e-44,  6.7262e-44,  7.7071e-44,  6.3058e-44],\n",
              "         [ 6.8664e-44,  6.8664e-44,  1.1771e-43,  6.7262e-44]],\n",
              "\n",
              "        [[ 7.5670e-44,  8.1275e-44,  6.8664e-44,  6.8664e-44],\n",
              "         [ 8.1275e-44,  7.4269e-44,  7.0065e-44,  6.4460e-44],\n",
              "         [ 7.2868e-44,  7.0065e-44,  6.7262e-44,  7.2868e-44]]])"
            ]
          },
          "metadata": {
            "tags": []
          },
          "execution_count": 10
        }
      ]
    },
    {
      "cell_type": "code",
      "metadata": {
        "colab": {
          "base_uri": "https://localhost:8080/"
        },
        "id": "9o7zJW58Nzxx",
        "outputId": "e37014c7-0271-472b-adab-3c6b7c4ed2e8"
      },
      "source": [
        "t.random_(10)"
      ],
      "execution_count": 11,
      "outputs": [
        {
          "output_type": "execute_result",
          "data": {
            "text/plain": [
              "tensor([[[3., 3., 8., 1.],\n",
              "         [0., 5., 4., 0.],\n",
              "         [4., 6., 3., 1.]],\n",
              "\n",
              "        [[2., 1., 6., 8.],\n",
              "         [6., 3., 4., 9.],\n",
              "         [8., 9., 8., 0.]]])"
            ]
          },
          "metadata": {
            "tags": []
          },
          "execution_count": 11
        }
      ]
    },
    {
      "cell_type": "code",
      "metadata": {
        "colab": {
          "base_uri": "https://localhost:8080/"
        },
        "id": "UUz04yE8N31L",
        "outputId": "a7b657fa-2ec4-4d5b-9c1c-c93793088af0"
      },
      "source": [
        "t"
      ],
      "execution_count": 12,
      "outputs": [
        {
          "output_type": "execute_result",
          "data": {
            "text/plain": [
              "tensor([[[3., 3., 8., 1.],\n",
              "         [0., 5., 4., 0.],\n",
              "         [4., 6., 3., 1.]],\n",
              "\n",
              "        [[2., 1., 6., 8.],\n",
              "         [6., 3., 4., 9.],\n",
              "         [8., 9., 8., 0.]]])"
            ]
          },
          "metadata": {
            "tags": []
          },
          "execution_count": 12
        }
      ]
    },
    {
      "cell_type": "code",
      "metadata": {
        "colab": {
          "base_uri": "https://localhost:8080/"
        },
        "id": "J7LUo7IAN43N",
        "outputId": "484f5235-6ba8-45d4-e1c8-cf00fbc5e363"
      },
      "source": [
        "r = torch.Tensor(t)\n",
        "r.resize_(3, 8)\n",
        "r"
      ],
      "execution_count": 13,
      "outputs": [
        {
          "output_type": "execute_result",
          "data": {
            "text/plain": [
              "tensor([[3., 3., 8., 1., 0., 5., 4., 0.],\n",
              "        [4., 6., 3., 1., 2., 1., 6., 8.],\n",
              "        [6., 3., 4., 9., 8., 9., 8., 0.]])"
            ]
          },
          "metadata": {
            "tags": []
          },
          "execution_count": 13
        }
      ]
    },
    {
      "cell_type": "code",
      "metadata": {
        "colab": {
          "base_uri": "https://localhost:8080/"
        },
        "id": "EhkDFNrVOAvc",
        "outputId": "8b959300-8597-43d3-80d9-6c87e8904bb6"
      },
      "source": [
        "t"
      ],
      "execution_count": 14,
      "outputs": [
        {
          "output_type": "execute_result",
          "data": {
            "text/plain": [
              "tensor([[[3., 3., 8., 1.],\n",
              "         [0., 5., 4., 0.],\n",
              "         [4., 6., 3., 1.]],\n",
              "\n",
              "        [[2., 1., 6., 8.],\n",
              "         [6., 3., 4., 9.],\n",
              "         [8., 9., 8., 0.]]])"
            ]
          },
          "metadata": {
            "tags": []
          },
          "execution_count": 14
        }
      ]
    },
    {
      "cell_type": "code",
      "metadata": {
        "colab": {
          "base_uri": "https://localhost:8080/"
        },
        "id": "nyJZgkpZOCe8",
        "outputId": "0ce23f6c-a865-476f-bdb8-8970b21e7c65"
      },
      "source": [
        "r.zero_()"
      ],
      "execution_count": 15,
      "outputs": [
        {
          "output_type": "execute_result",
          "data": {
            "text/plain": [
              "tensor([[0., 0., 0., 0., 0., 0., 0., 0.],\n",
              "        [0., 0., 0., 0., 0., 0., 0., 0.],\n",
              "        [0., 0., 0., 0., 0., 0., 0., 0.]])"
            ]
          },
          "metadata": {
            "tags": []
          },
          "execution_count": 15
        }
      ]
    },
    {
      "cell_type": "code",
      "metadata": {
        "colab": {
          "base_uri": "https://localhost:8080/"
        },
        "id": "XCwVLnNkOEay",
        "outputId": "c7332b36-6868-447c-c8a0-6de595d6c117"
      },
      "source": [
        "r"
      ],
      "execution_count": 16,
      "outputs": [
        {
          "output_type": "execute_result",
          "data": {
            "text/plain": [
              "tensor([[0., 0., 0., 0., 0., 0., 0., 0.],\n",
              "        [0., 0., 0., 0., 0., 0., 0., 0.],\n",
              "        [0., 0., 0., 0., 0., 0., 0., 0.]])"
            ]
          },
          "metadata": {
            "tags": []
          },
          "execution_count": 16
        }
      ]
    },
    {
      "cell_type": "code",
      "metadata": {
        "colab": {
          "base_uri": "https://localhost:8080/"
        },
        "id": "hUWw_WIpOFsE",
        "outputId": "8224f2cd-ae04-4cf7-8c70-c0d112117e36"
      },
      "source": [
        "t"
      ],
      "execution_count": 17,
      "outputs": [
        {
          "output_type": "execute_result",
          "data": {
            "text/plain": [
              "tensor([[[0., 0., 0., 0.],\n",
              "         [0., 0., 0., 0.],\n",
              "         [0., 0., 0., 0.]],\n",
              "\n",
              "        [[0., 0., 0., 0.],\n",
              "         [0., 0., 0., 0.],\n",
              "         [0., 0., 0., 0.]]])"
            ]
          },
          "metadata": {
            "tags": []
          },
          "execution_count": 17
        }
      ]
    },
    {
      "cell_type": "code",
      "metadata": {
        "id": "A3VaWJbjOGOz"
      },
      "source": [
        "s = r.clone()"
      ],
      "execution_count": 18,
      "outputs": []
    },
    {
      "cell_type": "code",
      "metadata": {
        "colab": {
          "base_uri": "https://localhost:8080/"
        },
        "id": "lHIpfEopOLC3",
        "outputId": "31a565dc-c988-4a79-bcb0-fc347ec019e8"
      },
      "source": [
        "s.fill_(1)"
      ],
      "execution_count": 19,
      "outputs": [
        {
          "output_type": "execute_result",
          "data": {
            "text/plain": [
              "tensor([[1., 1., 1., 1., 1., 1., 1., 1.],\n",
              "        [1., 1., 1., 1., 1., 1., 1., 1.],\n",
              "        [1., 1., 1., 1., 1., 1., 1., 1.]])"
            ]
          },
          "metadata": {
            "tags": []
          },
          "execution_count": 19
        }
      ]
    },
    {
      "cell_type": "code",
      "metadata": {
        "colab": {
          "base_uri": "https://localhost:8080/"
        },
        "id": "r7-uLTppOStF",
        "outputId": "8018d9ec-22ee-4d30-c24f-b3462245c6e5"
      },
      "source": [
        "s"
      ],
      "execution_count": 20,
      "outputs": [
        {
          "output_type": "execute_result",
          "data": {
            "text/plain": [
              "tensor([[1., 1., 1., 1., 1., 1., 1., 1.],\n",
              "        [1., 1., 1., 1., 1., 1., 1., 1.],\n",
              "        [1., 1., 1., 1., 1., 1., 1., 1.]])"
            ]
          },
          "metadata": {
            "tags": []
          },
          "execution_count": 20
        }
      ]
    },
    {
      "cell_type": "code",
      "metadata": {
        "colab": {
          "base_uri": "https://localhost:8080/"
        },
        "id": "mrin-KnsOS8T",
        "outputId": "123e991b-19b0-4dd8-e5ae-2f1b79c9912c"
      },
      "source": [
        "r"
      ],
      "execution_count": 21,
      "outputs": [
        {
          "output_type": "execute_result",
          "data": {
            "text/plain": [
              "tensor([[0., 0., 0., 0., 0., 0., 0., 0.],\n",
              "        [0., 0., 0., 0., 0., 0., 0., 0.],\n",
              "        [0., 0., 0., 0., 0., 0., 0., 0.]])"
            ]
          },
          "metadata": {
            "tags": []
          },
          "execution_count": 21
        }
      ]
    },
    {
      "cell_type": "code",
      "metadata": {
        "colab": {
          "base_uri": "https://localhost:8080/"
        },
        "id": "MXUzCmzzOTen",
        "outputId": "d2f39d15-36f3-49d7-ff0e-7f1b9a18c49f"
      },
      "source": [
        "t"
      ],
      "execution_count": 22,
      "outputs": [
        {
          "output_type": "execute_result",
          "data": {
            "text/plain": [
              "tensor([[[0., 0., 0., 0.],\n",
              "         [0., 0., 0., 0.],\n",
              "         [0., 0., 0., 0.]],\n",
              "\n",
              "        [[0., 0., 0., 0.],\n",
              "         [0., 0., 0., 0.],\n",
              "         [0., 0., 0., 0.]]])"
            ]
          },
          "metadata": {
            "tags": []
          },
          "execution_count": 22
        }
      ]
    },
    {
      "cell_type": "code",
      "metadata": {
        "id": "xUOe9_ibOUh1"
      },
      "source": [
        ""
      ],
      "execution_count": 22,
      "outputs": []
    },
    {
      "cell_type": "code",
      "metadata": {
        "id": "70c4htEyOaeN"
      },
      "source": [
        ""
      ],
      "execution_count": 22,
      "outputs": []
    },
    {
      "cell_type": "markdown",
      "metadata": {
        "id": "w8Qevln2Od35"
      },
      "source": [
        "# Vectors (1D Tensors)"
      ]
    },
    {
      "cell_type": "code",
      "metadata": {
        "id": "1mn4RoZ2OagS"
      },
      "source": [
        "v = torch.Tensor([1, 2, 3 ,4])"
      ],
      "execution_count": 23,
      "outputs": []
    },
    {
      "cell_type": "code",
      "metadata": {
        "colab": {
          "base_uri": "https://localhost:8080/"
        },
        "id": "bC_LyQzqMn68",
        "outputId": "3ea3f004-0781-49ce-ecdc-382fab8f1b64"
      },
      "source": [
        "v"
      ],
      "execution_count": 24,
      "outputs": [
        {
          "output_type": "execute_result",
          "data": {
            "text/plain": [
              "tensor([1., 2., 3., 4.])"
            ]
          },
          "metadata": {
            "tags": []
          },
          "execution_count": 24
        }
      ]
    },
    {
      "cell_type": "code",
      "metadata": {
        "colab": {
          "base_uri": "https://localhost:8080/"
        },
        "id": "N_dW1hJFMoZ7",
        "outputId": "e72b0c86-4dd0-4731-f1a4-db12921897aa"
      },
      "source": [
        "v.dim()"
      ],
      "execution_count": 25,
      "outputs": [
        {
          "output_type": "execute_result",
          "data": {
            "text/plain": [
              "1"
            ]
          },
          "metadata": {
            "tags": []
          },
          "execution_count": 25
        }
      ]
    },
    {
      "cell_type": "code",
      "metadata": {
        "colab": {
          "base_uri": "https://localhost:8080/"
        },
        "id": "HWoDR88zMsBf",
        "outputId": "be119df1-85d4-4bed-f66d-dca40a2a1d25"
      },
      "source": [
        "v.size()"
      ],
      "execution_count": 26,
      "outputs": [
        {
          "output_type": "execute_result",
          "data": {
            "text/plain": [
              "torch.Size([4])"
            ]
          },
          "metadata": {
            "tags": []
          },
          "execution_count": 26
        }
      ]
    },
    {
      "cell_type": "code",
      "metadata": {
        "colab": {
          "base_uri": "https://localhost:8080/"
        },
        "id": "jpqwyI98MtV_",
        "outputId": "a681e0d6-427a-4cd9-b4ed-12b313eba9dc"
      },
      "source": [
        "v.size()[0]"
      ],
      "execution_count": 27,
      "outputs": [
        {
          "output_type": "execute_result",
          "data": {
            "text/plain": [
              "4"
            ]
          },
          "metadata": {
            "tags": []
          },
          "execution_count": 27
        }
      ]
    },
    {
      "cell_type": "code",
      "metadata": {
        "colab": {
          "base_uri": "https://localhost:8080/"
        },
        "id": "Dh3eT3VmMwDp",
        "outputId": "d4d489c9-fc22-4cde-e995-43cb163e44fb"
      },
      "source": [
        "w = torch.Tensor([1, 0, 2, 0])\n",
        "w"
      ],
      "execution_count": 28,
      "outputs": [
        {
          "output_type": "execute_result",
          "data": {
            "text/plain": [
              "tensor([1., 0., 2., 0.])"
            ]
          },
          "metadata": {
            "tags": []
          },
          "execution_count": 28
        }
      ]
    },
    {
      "cell_type": "code",
      "metadata": {
        "colab": {
          "base_uri": "https://localhost:8080/"
        },
        "id": "wbPwEJXRM4dW",
        "outputId": "b1ac4124-364e-462c-a3fe-9ca242c15d92"
      },
      "source": [
        "# Element-wise multiplication\n",
        "v * w"
      ],
      "execution_count": 29,
      "outputs": [
        {
          "output_type": "execute_result",
          "data": {
            "text/plain": [
              "tensor([1., 0., 6., 0.])"
            ]
          },
          "metadata": {
            "tags": []
          },
          "execution_count": 29
        }
      ]
    },
    {
      "cell_type": "code",
      "metadata": {
        "colab": {
          "base_uri": "https://localhost:8080/"
        },
        "id": "d4-f9wMxM6EI",
        "outputId": "ff1a67ba-0fbd-4b7b-c6c2-ff7003dc82db"
      },
      "source": [
        "# Scalar product\n",
        "v @ w"
      ],
      "execution_count": 30,
      "outputs": [
        {
          "output_type": "execute_result",
          "data": {
            "text/plain": [
              "tensor(7.)"
            ]
          },
          "metadata": {
            "tags": []
          },
          "execution_count": 30
        }
      ]
    },
    {
      "cell_type": "code",
      "metadata": {
        "id": "puw0S6RBNA0r"
      },
      "source": [
        "# In-place replacement\n",
        "x = torch.Tensor(5).random_(10)"
      ],
      "execution_count": 31,
      "outputs": []
    },
    {
      "cell_type": "code",
      "metadata": {
        "colab": {
          "base_uri": "https://localhost:8080/"
        },
        "id": "SJRNo4w5Ny_K",
        "outputId": "3d9a70bc-b5a0-44fa-f6b4-8096ebd42d25"
      },
      "source": [
        "x"
      ],
      "execution_count": 32,
      "outputs": [
        {
          "output_type": "execute_result",
          "data": {
            "text/plain": [
              "tensor([8., 0., 9., 1., 1.])"
            ]
          },
          "metadata": {
            "tags": []
          },
          "execution_count": 32
        }
      ]
    },
    {
      "cell_type": "code",
      "metadata": {
        "colab": {
          "base_uri": "https://localhost:8080/"
        },
        "id": "lE2gLw3PNzcC",
        "outputId": "8cf9eec5-afdd-43bc-c0b7-b449bc9079ff"
      },
      "source": [
        "x[1:3]"
      ],
      "execution_count": 33,
      "outputs": [
        {
          "output_type": "execute_result",
          "data": {
            "text/plain": [
              "tensor([0., 9.])"
            ]
          },
          "metadata": {
            "tags": []
          },
          "execution_count": 33
        }
      ]
    },
    {
      "cell_type": "code",
      "metadata": {
        "colab": {
          "base_uri": "https://localhost:8080/"
        },
        "id": "YOhJ-LenQU_b",
        "outputId": "ad0dd358-5ce9-4a42-9aba-6a7aec8d4e71"
      },
      "source": [
        "v"
      ],
      "execution_count": 34,
      "outputs": [
        {
          "output_type": "execute_result",
          "data": {
            "text/plain": [
              "tensor([1., 2., 3., 4.])"
            ]
          },
          "metadata": {
            "tags": []
          },
          "execution_count": 34
        }
      ]
    },
    {
      "cell_type": "code",
      "metadata": {
        "colab": {
          "base_uri": "https://localhost:8080/"
        },
        "id": "K4io7JfiQX5y",
        "outputId": "f4a2ac6d-e446-4189-ff8a-28e58dc57210"
      },
      "source": [
        "v = torch.arange(1, 5)\n",
        "v"
      ],
      "execution_count": 35,
      "outputs": [
        {
          "output_type": "execute_result",
          "data": {
            "text/plain": [
              "tensor([1, 2, 3, 4])"
            ]
          },
          "metadata": {
            "tags": []
          },
          "execution_count": 35
        }
      ]
    },
    {
      "cell_type": "code",
      "metadata": {
        "colab": {
          "base_uri": "https://localhost:8080/"
        },
        "id": "mAGOVujxQdyw",
        "outputId": "c6a7c77f-5578-437c-db98-57906d0d3e9f"
      },
      "source": [
        "print(v.pow(2), v)"
      ],
      "execution_count": 36,
      "outputs": [
        {
          "output_type": "stream",
          "text": [
            "tensor([ 1,  4,  9, 16]) tensor([1, 2, 3, 4])\n"
          ],
          "name": "stdout"
        }
      ]
    },
    {
      "cell_type": "code",
      "metadata": {
        "id": "v4WOtiVuQg4D"
      },
      "source": [
        ""
      ],
      "execution_count": null,
      "outputs": []
    },
    {
      "cell_type": "code",
      "metadata": {
        "id": "GJKttI_rQlAI"
      },
      "source": [
        ""
      ],
      "execution_count": null,
      "outputs": []
    },
    {
      "cell_type": "markdown",
      "metadata": {
        "id": "LCt2KcwIQmgf"
      },
      "source": [
        "# Matrices (2D Tensors)"
      ]
    },
    {
      "cell_type": "code",
      "metadata": {
        "colab": {
          "base_uri": "https://localhost:8080/"
        },
        "id": "ofqSXZrVQkyb",
        "outputId": "9161c82d-6c35-4194-b9b9-d74fc37463df"
      },
      "source": [
        "m = torch.Tensor([[1, 2, 3, 4],\n",
        "                 [5, 6, 7, 8]])\n",
        "m"
      ],
      "execution_count": 38,
      "outputs": [
        {
          "output_type": "execute_result",
          "data": {
            "text/plain": [
              "tensor([[1., 2., 3., 4.],\n",
              "        [5., 6., 7., 8.]])"
            ]
          },
          "metadata": {
            "tags": []
          },
          "execution_count": 38
        }
      ]
    },
    {
      "cell_type": "code",
      "metadata": {
        "colab": {
          "base_uri": "https://localhost:8080/"
        },
        "id": "E3M6iU8QQzMN",
        "outputId": "c546bb87-035f-40b1-baa0-25db6a03b386"
      },
      "source": [
        "m.dim()"
      ],
      "execution_count": 39,
      "outputs": [
        {
          "output_type": "execute_result",
          "data": {
            "text/plain": [
              "2"
            ]
          },
          "metadata": {
            "tags": []
          },
          "execution_count": 39
        }
      ]
    },
    {
      "cell_type": "code",
      "metadata": {
        "colab": {
          "base_uri": "https://localhost:8080/"
        },
        "id": "-VlGHCnMQ3o1",
        "outputId": "bbdfd619-96a0-46dd-a030-363ff1fef090"
      },
      "source": [
        "print(m.size(0), m.size(1), m.size(), sep=' -- ')"
      ],
      "execution_count": 40,
      "outputs": [
        {
          "output_type": "stream",
          "text": [
            "2 -- 4 -- torch.Size([2, 4])\n"
          ],
          "name": "stdout"
        }
      ]
    },
    {
      "cell_type": "code",
      "metadata": {
        "colab": {
          "base_uri": "https://localhost:8080/"
        },
        "id": "AM5p9uX4Q7Jq",
        "outputId": "53338fbe-7df0-4905-ecbe-0358b36cb762"
      },
      "source": [
        "m.numel()"
      ],
      "execution_count": 41,
      "outputs": [
        {
          "output_type": "execute_result",
          "data": {
            "text/plain": [
              "8"
            ]
          },
          "metadata": {
            "tags": []
          },
          "execution_count": 41
        }
      ]
    },
    {
      "cell_type": "code",
      "metadata": {
        "colab": {
          "base_uri": "https://localhost:8080/"
        },
        "id": "FB3kEq8QQ-Ep",
        "outputId": "f69f6c9b-2fd1-4365-f3c5-eebbf7491f02"
      },
      "source": [
        "m[0][2]"
      ],
      "execution_count": 42,
      "outputs": [
        {
          "output_type": "execute_result",
          "data": {
            "text/plain": [
              "tensor(3.)"
            ]
          },
          "metadata": {
            "tags": []
          },
          "execution_count": 42
        }
      ]
    },
    {
      "cell_type": "code",
      "metadata": {
        "colab": {
          "base_uri": "https://localhost:8080/"
        },
        "id": "577ZF3lcRAEh",
        "outputId": "6fb9e259-144d-4bd5-8278-bdbdbdabe443"
      },
      "source": [
        "m[0, 2]"
      ],
      "execution_count": 43,
      "outputs": [
        {
          "output_type": "execute_result",
          "data": {
            "text/plain": [
              "tensor(3.)"
            ]
          },
          "metadata": {
            "tags": []
          },
          "execution_count": 43
        }
      ]
    },
    {
      "cell_type": "code",
      "metadata": {
        "colab": {
          "base_uri": "https://localhost:8080/"
        },
        "id": "mSUQ7BT9RDj_",
        "outputId": "0a0eab5f-a9ed-4fb6-f610-41d3347f15c9"
      },
      "source": [
        "m[:, 1] # size 2"
      ],
      "execution_count": 48,
      "outputs": [
        {
          "output_type": "execute_result",
          "data": {
            "text/plain": [
              "tensor([2., 6.])"
            ]
          },
          "metadata": {
            "tags": []
          },
          "execution_count": 48
        }
      ]
    },
    {
      "cell_type": "code",
      "metadata": {
        "colab": {
          "base_uri": "https://localhost:8080/"
        },
        "id": "rvggRNYnRjCH",
        "outputId": "9e65b880-29e8-4073-da4c-ba43ff5d3840"
      },
      "source": [
        "m[:, 1].size()"
      ],
      "execution_count": 49,
      "outputs": [
        {
          "output_type": "execute_result",
          "data": {
            "text/plain": [
              "torch.Size([2])"
            ]
          },
          "metadata": {
            "tags": []
          },
          "execution_count": 49
        }
      ]
    },
    {
      "cell_type": "code",
      "metadata": {
        "colab": {
          "base_uri": "https://localhost:8080/"
        },
        "id": "KYEYLfn-RGH-",
        "outputId": "410c2117-7b9b-4ac2-f25e-c965144e1743"
      },
      "source": [
        "m[:, [1]]"
      ],
      "execution_count": 50,
      "outputs": [
        {
          "output_type": "execute_result",
          "data": {
            "text/plain": [
              "tensor([[2.],\n",
              "        [6.]])"
            ]
          },
          "metadata": {
            "tags": []
          },
          "execution_count": 50
        }
      ]
    },
    {
      "cell_type": "code",
      "metadata": {
        "colab": {
          "base_uri": "https://localhost:8080/"
        },
        "id": "MkwJjiZ_RmFo",
        "outputId": "fea24f6e-6a01-4620-d0a7-e28f78b3973d"
      },
      "source": [
        "m[:, [1]].size()"
      ],
      "execution_count": 51,
      "outputs": [
        {
          "output_type": "execute_result",
          "data": {
            "text/plain": [
              "torch.Size([2, 1])"
            ]
          },
          "metadata": {
            "tags": []
          },
          "execution_count": 51
        }
      ]
    },
    {
      "cell_type": "code",
      "metadata": {
        "colab": {
          "base_uri": "https://localhost:8080/"
        },
        "id": "AFSCZAy7RKw9",
        "outputId": "07b6e07a-58f1-4442-9b55-fc41c44a81b4"
      },
      "source": [
        "m[[0], :]"
      ],
      "execution_count": 52,
      "outputs": [
        {
          "output_type": "execute_result",
          "data": {
            "text/plain": [
              "tensor([[1., 2., 3., 4.]])"
            ]
          },
          "metadata": {
            "tags": []
          },
          "execution_count": 52
        }
      ]
    },
    {
      "cell_type": "code",
      "metadata": {
        "colab": {
          "base_uri": "https://localhost:8080/"
        },
        "id": "-zTc4rObRpZm",
        "outputId": "26a28c5f-468a-49af-f29f-6683d372c951"
      },
      "source": [
        "m[[0], :].size()"
      ],
      "execution_count": 53,
      "outputs": [
        {
          "output_type": "execute_result",
          "data": {
            "text/plain": [
              "torch.Size([1, 4])"
            ]
          },
          "metadata": {
            "tags": []
          },
          "execution_count": 53
        }
      ]
    },
    {
      "cell_type": "code",
      "metadata": {
        "colab": {
          "base_uri": "https://localhost:8080/"
        },
        "id": "2JTkzZxGRPHR",
        "outputId": "b4ca2af6-d870-4d1b-e009-32c5325ddd04"
      },
      "source": [
        "m[0, :]"
      ],
      "execution_count": 47,
      "outputs": [
        {
          "output_type": "execute_result",
          "data": {
            "text/plain": [
              "tensor([1., 2., 3., 4.])"
            ]
          },
          "metadata": {
            "tags": []
          },
          "execution_count": 47
        }
      ]
    },
    {
      "cell_type": "code",
      "metadata": {
        "colab": {
          "base_uri": "https://localhost:8080/"
        },
        "id": "oRkgwYn7RUog",
        "outputId": "d8f4dd31-24e7-4af0-955a-87ff01ed7481"
      },
      "source": [
        "m[0, :].size()"
      ],
      "execution_count": 54,
      "outputs": [
        {
          "output_type": "execute_result",
          "data": {
            "text/plain": [
              "torch.Size([4])"
            ]
          },
          "metadata": {
            "tags": []
          },
          "execution_count": 54
        }
      ]
    },
    {
      "cell_type": "code",
      "metadata": {
        "colab": {
          "base_uri": "https://localhost:8080/"
        },
        "id": "JyXWLjkRRswL",
        "outputId": "3db126fc-1823-48f3-c1d4-dea748554701"
      },
      "source": [
        "v = torch.arange(1., 5)\n",
        "v"
      ],
      "execution_count": 58,
      "outputs": [
        {
          "output_type": "execute_result",
          "data": {
            "text/plain": [
              "tensor([1., 2., 3., 4.])"
            ]
          },
          "metadata": {
            "tags": []
          },
          "execution_count": 58
        }
      ]
    },
    {
      "cell_type": "code",
      "metadata": {
        "colab": {
          "base_uri": "https://localhost:8080/"
        },
        "id": "4PqbKrjPRyNE",
        "outputId": "eb48db7a-16f3-4120-a5a2-125ef7760bb1"
      },
      "source": [
        "m"
      ],
      "execution_count": 56,
      "outputs": [
        {
          "output_type": "execute_result",
          "data": {
            "text/plain": [
              "tensor([[1., 2., 3., 4.],\n",
              "        [5., 6., 7., 8.]])"
            ]
          },
          "metadata": {
            "tags": []
          },
          "execution_count": 56
        }
      ]
    },
    {
      "cell_type": "code",
      "metadata": {
        "colab": {
          "base_uri": "https://localhost:8080/"
        },
        "id": "ttoNPU1RRzjS",
        "outputId": "68597148-537b-4d96-f84d-0cfcc01f36a1"
      },
      "source": [
        "m @ v"
      ],
      "execution_count": 59,
      "outputs": [
        {
          "output_type": "execute_result",
          "data": {
            "text/plain": [
              "tensor([30., 70.])"
            ]
          },
          "metadata": {
            "tags": []
          },
          "execution_count": 59
        }
      ]
    },
    {
      "cell_type": "code",
      "metadata": {
        "colab": {
          "base_uri": "https://localhost:8080/"
        },
        "id": "6708PLo0R1OJ",
        "outputId": "6b03c914-2ca4-4b2d-c482-c91094758325"
      },
      "source": [
        "m[[0], :] @ v"
      ],
      "execution_count": 60,
      "outputs": [
        {
          "output_type": "execute_result",
          "data": {
            "text/plain": [
              "tensor([30.])"
            ]
          },
          "metadata": {
            "tags": []
          },
          "execution_count": 60
        }
      ]
    },
    {
      "cell_type": "code",
      "metadata": {
        "colab": {
          "base_uri": "https://localhost:8080/"
        },
        "id": "Nn0WIZ7LR6iP",
        "outputId": "7ca771d2-1264-4cec-90ca-e230f6eac16c"
      },
      "source": [
        "m[[1], :] @ v"
      ],
      "execution_count": 61,
      "outputs": [
        {
          "output_type": "execute_result",
          "data": {
            "text/plain": [
              "tensor([70.])"
            ]
          },
          "metadata": {
            "tags": []
          },
          "execution_count": 61
        }
      ]
    },
    {
      "cell_type": "code",
      "metadata": {
        "colab": {
          "base_uri": "https://localhost:8080/"
        },
        "id": "_CWO9GXvR__a",
        "outputId": "383a65e2-c83e-4dad-da59-b7ffd7f1c223"
      },
      "source": [
        "m + torch.rand(2, 4)"
      ],
      "execution_count": 62,
      "outputs": [
        {
          "output_type": "execute_result",
          "data": {
            "text/plain": [
              "tensor([[1.4730, 2.1304, 3.4841, 4.7619],\n",
              "        [5.6052, 6.4536, 7.9615, 8.0977]])"
            ]
          },
          "metadata": {
            "tags": []
          },
          "execution_count": 62
        }
      ]
    },
    {
      "cell_type": "code",
      "metadata": {
        "colab": {
          "base_uri": "https://localhost:8080/"
        },
        "id": "5SRPJ4cbSB0C",
        "outputId": "896823ed-f3a4-484a-fe4f-5170f10e37f4"
      },
      "source": [
        "m - torch.rand(2, 4)"
      ],
      "execution_count": 63,
      "outputs": [
        {
          "output_type": "execute_result",
          "data": {
            "text/plain": [
              "tensor([[0.1950, 1.6660, 2.5634, 3.8065],\n",
              "        [4.4550, 5.2360, 6.1271, 7.9695]])"
            ]
          },
          "metadata": {
            "tags": []
          },
          "execution_count": 63
        }
      ]
    },
    {
      "cell_type": "code",
      "metadata": {
        "colab": {
          "base_uri": "https://localhost:8080/"
        },
        "id": "3EHYqF-rSEPt",
        "outputId": "050efb2d-eb45-49b4-97ee-ca71ddb07af8"
      },
      "source": [
        "m / torch.rand(2, 4)\n"
      ],
      "execution_count": 64,
      "outputs": [
        {
          "output_type": "execute_result",
          "data": {
            "text/plain": [
              "tensor([[ 1.2790,  2.2977,  3.7548,  6.1597],\n",
              "        [ 5.4333,  6.8606, 10.7311, 25.6850]])"
            ]
          },
          "metadata": {
            "tags": []
          },
          "execution_count": 64
        }
      ]
    },
    {
      "cell_type": "code",
      "metadata": {
        "colab": {
          "base_uri": "https://localhost:8080/"
        },
        "id": "yp7gWgBjSGZF",
        "outputId": "8448596c-420e-4e87-a3bd-be130b58a91e"
      },
      "source": [
        "m.size()"
      ],
      "execution_count": 65,
      "outputs": [
        {
          "output_type": "execute_result",
          "data": {
            "text/plain": [
              "torch.Size([2, 4])"
            ]
          },
          "metadata": {
            "tags": []
          },
          "execution_count": 65
        }
      ]
    },
    {
      "cell_type": "code",
      "metadata": {
        "colab": {
          "base_uri": "https://localhost:8080/"
        },
        "id": "EbOYqYvLSIeu",
        "outputId": "add857e7-25e0-410c-e71b-8778183ac352"
      },
      "source": [
        "m.t()"
      ],
      "execution_count": 66,
      "outputs": [
        {
          "output_type": "execute_result",
          "data": {
            "text/plain": [
              "tensor([[1., 5.],\n",
              "        [2., 6.],\n",
              "        [3., 7.],\n",
              "        [4., 8.]])"
            ]
          },
          "metadata": {
            "tags": []
          },
          "execution_count": 66
        }
      ]
    },
    {
      "cell_type": "code",
      "metadata": {
        "colab": {
          "base_uri": "https://localhost:8080/"
        },
        "id": "2l7t9qgASJwQ",
        "outputId": "95390c28-0e39-4c6b-da1e-de5bef8ceb11"
      },
      "source": [
        "m.transpose(0, 1)"
      ],
      "execution_count": 67,
      "outputs": [
        {
          "output_type": "execute_result",
          "data": {
            "text/plain": [
              "tensor([[1., 5.],\n",
              "        [2., 6.],\n",
              "        [3., 7.],\n",
              "        [4., 8.]])"
            ]
          },
          "metadata": {
            "tags": []
          },
          "execution_count": 67
        }
      ]
    },
    {
      "cell_type": "code",
      "metadata": {
        "colab": {
          "base_uri": "https://localhost:8080/"
        },
        "id": "3ScdMshfSOSg",
        "outputId": "964724d2-58f8-45be-e0f3-0996b088220b"
      },
      "source": [
        "m"
      ],
      "execution_count": 68,
      "outputs": [
        {
          "output_type": "execute_result",
          "data": {
            "text/plain": [
              "tensor([[1., 2., 3., 4.],\n",
              "        [5., 6., 7., 8.]])"
            ]
          },
          "metadata": {
            "tags": []
          },
          "execution_count": 68
        }
      ]
    },
    {
      "cell_type": "code",
      "metadata": {
        "id": "x4O0kuxqSPDO"
      },
      "source": [
        ""
      ],
      "execution_count": 69,
      "outputs": []
    },
    {
      "cell_type": "code",
      "metadata": {
        "id": "f3hm3RWoSUx9"
      },
      "source": [
        ""
      ],
      "execution_count": 69,
      "outputs": []
    },
    {
      "cell_type": "markdown",
      "metadata": {
        "id": "5So7GE_gSV6q"
      },
      "source": [
        "# Constructors"
      ]
    },
    {
      "cell_type": "code",
      "metadata": {
        "colab": {
          "base_uri": "https://localhost:8080/"
        },
        "id": "O0_KTCk1SU0Y",
        "outputId": "93bd9f8d-8b41-4a9f-867d-4bf9c065f9f4"
      },
      "source": [
        "torch.arange(3., 8)"
      ],
      "execution_count": 70,
      "outputs": [
        {
          "output_type": "execute_result",
          "data": {
            "text/plain": [
              "tensor([3., 4., 5., 6., 7.])"
            ]
          },
          "metadata": {
            "tags": []
          },
          "execution_count": 70
        }
      ]
    },
    {
      "cell_type": "code",
      "metadata": {
        "colab": {
          "base_uri": "https://localhost:8080/"
        },
        "id": "UbkSzmmCSRmy",
        "outputId": "1a24ec6d-7a4a-4453-896c-74a5d61ccd8a"
      },
      "source": [
        "torch.arange(5.7, -2.1, -3)"
      ],
      "execution_count": 71,
      "outputs": [
        {
          "output_type": "execute_result",
          "data": {
            "text/plain": [
              "tensor([ 5.7000,  2.7000, -0.3000])"
            ]
          },
          "metadata": {
            "tags": []
          },
          "execution_count": 71
        }
      ]
    },
    {
      "cell_type": "code",
      "metadata": {
        "colab": {
          "base_uri": "https://localhost:8080/"
        },
        "id": "kmu7aduyShkJ",
        "outputId": "68d013d2-7da1-4a3b-e3b4-54fb7a69ebdb"
      },
      "source": [
        "torch.linspace(3, 8, 20).view(1, -1)"
      ],
      "execution_count": 72,
      "outputs": [
        {
          "output_type": "execute_result",
          "data": {
            "text/plain": [
              "tensor([[3.0000, 3.2632, 3.5263, 3.7895, 4.0526, 4.3158, 4.5789, 4.8421, 5.1053,\n",
              "         5.3684, 5.6316, 5.8947, 6.1579, 6.4211, 6.6842, 6.9474, 7.2105, 7.4737,\n",
              "         7.7368, 8.0000]])"
            ]
          },
          "metadata": {
            "tags": []
          },
          "execution_count": 72
        }
      ]
    },
    {
      "cell_type": "code",
      "metadata": {
        "colab": {
          "base_uri": "https://localhost:8080/"
        },
        "id": "iogZ_iU_SkC5",
        "outputId": "d2f1a5ef-45ce-48a3-c56a-edcc237a781d"
      },
      "source": [
        "torch.zeros(3, 5)"
      ],
      "execution_count": 73,
      "outputs": [
        {
          "output_type": "execute_result",
          "data": {
            "text/plain": [
              "tensor([[0., 0., 0., 0., 0.],\n",
              "        [0., 0., 0., 0., 0.],\n",
              "        [0., 0., 0., 0., 0.]])"
            ]
          },
          "metadata": {
            "tags": []
          },
          "execution_count": 73
        }
      ]
    },
    {
      "cell_type": "code",
      "metadata": {
        "colab": {
          "base_uri": "https://localhost:8080/"
        },
        "id": "lHB1O6DESnL1",
        "outputId": "d8bb8144-c389-4b67-9eb5-66df4cbabc15"
      },
      "source": [
        "torch.ones(3, 2, 5)"
      ],
      "execution_count": 74,
      "outputs": [
        {
          "output_type": "execute_result",
          "data": {
            "text/plain": [
              "tensor([[[1., 1., 1., 1., 1.],\n",
              "         [1., 1., 1., 1., 1.]],\n",
              "\n",
              "        [[1., 1., 1., 1., 1.],\n",
              "         [1., 1., 1., 1., 1.]],\n",
              "\n",
              "        [[1., 1., 1., 1., 1.],\n",
              "         [1., 1., 1., 1., 1.]]])"
            ]
          },
          "metadata": {
            "tags": []
          },
          "execution_count": 74
        }
      ]
    },
    {
      "cell_type": "code",
      "metadata": {
        "colab": {
          "base_uri": "https://localhost:8080/"
        },
        "id": "RosxtJ18SpR7",
        "outputId": "6a0e18a0-84f2-44a6-f7ed-4f23b547b1be"
      },
      "source": [
        "torch.eye(3)"
      ],
      "execution_count": 75,
      "outputs": [
        {
          "output_type": "execute_result",
          "data": {
            "text/plain": [
              "tensor([[1., 0., 0.],\n",
              "        [0., 1., 0.],\n",
              "        [0., 0., 1.]])"
            ]
          },
          "metadata": {
            "tags": []
          },
          "execution_count": 75
        }
      ]
    },
    {
      "cell_type": "code",
      "metadata": {
        "id": "j2-yziB1SwuE"
      },
      "source": [
        "from matplotlib import pyplot as plt\n",
        "import numpy as np\n",
        "import torch\n",
        "from IPython.display import HTML, display\n",
        "\n",
        "\n",
        "def set_default(figsize=(10, 10), dpi=100):\n",
        "    plt.style.use(['dark_background', 'bmh'])\n",
        "    plt.rc('axes', facecolor='k')\n",
        "    plt.rc('figure', facecolor='k')\n",
        "    plt.rc('figure', figsize=figsize, dpi=dpi)\n",
        "\n",
        "\n",
        "def plot_data(X, y, d=0, auto=False, zoom=1):\n",
        "    X = X.cpu()\n",
        "    y = y.cpu()\n",
        "    plt.scatter(X.numpy()[:, 0], X.numpy()[:, 1], c=y, s=20, cmap=plt.cm.Spectral)\n",
        "    plt.axis('square')\n",
        "    plt.axis(np.array((-1.1, 1.1, -1.1, 1.1)) * zoom)\n",
        "    if auto is True: plt.axis('equal')\n",
        "    plt.axis('off')\n",
        "\n",
        "    _m, _c = 0, '.15'\n",
        "    plt.axvline(0, ymin=_m, color=_c, lw=1, zorder=0)\n",
        "    plt.axhline(0, xmin=_m, color=_c, lw=1, zorder=0)\n",
        "\n",
        "\n",
        "def plot_model(X, y, model):\n",
        "    model.cpu()\n",
        "    mesh = np.arange(-1.1, 1.1, 0.01)\n",
        "    xx, yy = np.meshgrid(mesh, mesh)\n",
        "    with torch.no_grad():\n",
        "        data = torch.from_numpy(np.vstack((xx.reshape(-1), yy.reshape(-1))).T).float()\n",
        "        Z = model(data).detach()\n",
        "    Z = np.argmax(Z, axis=1).reshape(xx.shape)\n",
        "    plt.contourf(xx, yy, Z, cmap=plt.cm.Spectral, alpha=0.3)\n",
        "    plot_data(X, y)\n",
        "\n",
        "\n",
        "def show_scatterplot(X, colors, title=''):\n",
        "    colors = colors.cpu().numpy()\n",
        "    X = X.cpu().numpy()\n",
        "    plt.figure()\n",
        "    plt.axis('equal')\n",
        "    plt.scatter(X[:, 0], X[:, 1], c=colors, s=30)\n",
        "    # plt.grid(True)\n",
        "    plt.title(title)\n",
        "    plt.axis('off')\n",
        "\n",
        "\n",
        "def plot_bases(bases, width=0.04):\n",
        "    bases = bases.cpu()\n",
        "    bases[2:] -= bases[:2]\n",
        "    plt.arrow(*bases[0], *bases[2], width=width, color=(1,0,0), zorder=10, alpha=1., length_includes_head=True)\n",
        "    plt.arrow(*bases[1], *bases[3], width=width, color=(0,1,0), zorder=10, alpha=1., length_includes_head=True)\n",
        "\n",
        "\n",
        "def show_mat(mat, vect, prod, threshold=-1):\n",
        "    # Subplot grid definition\n",
        "    fig, (ax1, ax2, ax3) = plt.subplots(1, 3, sharex=False, sharey=True,\n",
        "                                        gridspec_kw={'width_ratios':[5,1,1]})\n",
        "    # Plot matrices\n",
        "    cax1 = ax1.matshow(mat.numpy(), clim=(-1, 1))\n",
        "    ax2.matshow(vect.numpy(), clim=(-1, 1))\n",
        "    cax3 = ax3.matshow(prod.numpy(), clim=(threshold, 1))\n",
        "\n",
        "    # Set titles\n",
        "    ax1.set_title(f'A: {mat.size(0)} \\u00D7 {mat.size(1)}')\n",
        "    ax2.set_title(f'a^(i): {vect.numel()}')\n",
        "    ax3.set_title(f'p: {prod.numel()}')\n",
        "\n",
        "    # Remove xticks for vectors\n",
        "    ax2.set_xticks(tuple())\n",
        "    ax3.set_xticks(tuple())\n",
        "    \n",
        "    # Plot colourbars\n",
        "    fig.colorbar(cax1, ax=ax2)\n",
        "    fig.colorbar(cax3, ax=ax3)\n",
        "\n",
        "    # Fix y-axis limits\n",
        "    ax1.set_ylim(bottom=max(len(prod), len(vect)) - 0.5)\n",
        "\n",
        "\n",
        "colors = dict(\n",
        "    aqua='#8dd3c7',\n",
        "    yellow='#ffffb3',\n",
        "    lavender='#bebada',\n",
        "    red='#fb8072',\n",
        "    blue='#80b1d3',\n",
        "    orange='#fdb462',\n",
        "    green='#b3de69',\n",
        "    pink='#fccde5',\n",
        "    grey='#d9d9d9',\n",
        "    violet='#bc80bd',\n",
        "    unk1='#ccebc5',\n",
        "    unk2='#ffed6f',\n",
        ")\n",
        "\n",
        "\n",
        "def _cstr(s, color='black'):\n",
        "    if s == ' ':\n",
        "        return f'<text style=color:#000;padding-left:10px;background-color:{color}> </text>'\n",
        "    else:\n",
        "        return f'<text style=color:#000;background-color:{color}>{s} </text>'\n",
        "\n",
        "# print html\n",
        "def _print_color(t):\n",
        "    display(HTML(''.join([_cstr(ti, color=ci) for ti, ci in t])))\n",
        "\n",
        "# get appropriate color for value\n",
        "def _get_clr(value):\n",
        "    colors = ('#85c2e1', '#89c4e2', '#95cae5', '#99cce6', '#a1d0e8',\n",
        "              '#b2d9ec', '#baddee', '#c2e1f0', '#eff7fb', '#f9e8e8',\n",
        "              '#f9e8e8', '#f9d4d4', '#f9bdbd', '#f8a8a8', '#f68f8f',\n",
        "              '#f47676', '#f45f5f', '#f34343', '#f33b3b', '#f42e2e')\n",
        "    value = int((value * 100) / 5)\n",
        "    if value == len(colors): value -= 1  # fixing bugs...\n",
        "    return colors[value]\n",
        "\n",
        "def _visualise_values(output_values, result_list):\n",
        "    text_colours = []\n",
        "    for i in range(len(output_values)):\n",
        "        text = (result_list[i], _get_clr(output_values[i]))\n",
        "        text_colours.append(text)\n",
        "    _print_color(text_colours)\n",
        "\n",
        "def print_colourbar():\n",
        "    color_range = torch.linspace(-2.5, 2.5, 20)\n",
        "    to_print = [(f'{x:.2f}', _get_clr((x+2.5)/5)) for x in color_range]\n",
        "    _print_color(to_print)\n",
        "\n",
        "\n",
        "# Let's only focus on the last time step for now\n",
        "# First, the cell state (Long term memory)\n",
        "def plot_state(data, state, b, decoder):\n",
        "    actual_data = decoder(data[b, :, :].numpy())\n",
        "    seq_len = len(actual_data)\n",
        "    seq_len_w_pad = len(state)\n",
        "    for s in range(state.size(2)):\n",
        "        states = torch.sigmoid(state[:, b, s])\n",
        "        _visualise_values(states[seq_len_w_pad - seq_len:], list(actual_data))"
      ],
      "execution_count": 79,
      "outputs": []
    },
    {
      "cell_type": "code",
      "metadata": {
        "id": "aqd7n2J7SrOn"
      },
      "source": [
        "from matplotlib import pyplot as plt\n",
        "set_default()"
      ],
      "execution_count": 81,
      "outputs": []
    },
    {
      "cell_type": "code",
      "metadata": {
        "colab": {
          "base_uri": "https://localhost:8080/",
          "height": 810
        },
        "id": "v3eg36qYSt3s",
        "outputId": "fa20079a-8910-4d75-a351-2c1ba1f527d1"
      },
      "source": [
        "plt.hist(torch.randn(1000).numpy(), 100);"
      ],
      "execution_count": 82,
      "outputs": [
        {
          "output_type": "display_data",
          "data": {
            "image/png": "[encoded data removed]",
            "text/plain": [
              "<Figure size 1000x1000 with 1 Axes>"
            ]
          },
          "metadata": {
            "tags": []
          }
        }
      ]
    },
    {
      "cell_type": "code",
      "metadata": {
        "colab": {
          "base_uri": "https://localhost:8080/",
          "height": 810
        },
        "id": "YeIFXHbQT3rJ",
        "outputId": "0efdb741-9c57-4ca7-c004-0203980e0855"
      },
      "source": [
        "plt.hist(torch.randn(10**6).numpy(), 100);"
      ],
      "execution_count": 83,
      "outputs": [
        {
          "output_type": "display_data",
          "data": {
            "image/png": "[encoded data removed]",
            "text/plain": [
              "<Figure size 1000x1000 with 1 Axes>"
            ]
          },
          "metadata": {
            "tags": []
          }
        }
      ]
    },
    {
      "cell_type": "code",
      "metadata": {
        "colab": {
          "base_uri": "https://localhost:8080/",
          "height": 810
        },
        "id": "2PKmTvM1T9m2",
        "outputId": "8d44a410-92f2-4ebf-adf0-be70c82b8e59"
      },
      "source": [
        "plt.hist(torch.rand(10**6).numpy(), 100);"
      ],
      "execution_count": 84,
      "outputs": [
        {
          "output_type": "display_data",
          "data": {
            "image/png": "[encoded data removed]",
            "text/plain": [
              "<Figure size 1000x1000 with 1 Axes>"
            ]
          },
          "metadata": {
            "tags": []
          }
        }
      ]
    },
    {
      "cell_type": "code",
      "metadata": {
        "id": "en288iu6UA9S"
      },
      "source": [
        ""
      ],
      "execution_count": 84,
      "outputs": []
    },
    {
      "cell_type": "code",
      "metadata": {
        "id": "wHHQ2950UKbW"
      },
      "source": [
        ""
      ],
      "execution_count": 84,
      "outputs": []
    },
    {
      "cell_type": "code",
      "metadata": {
        "id": "yDsOizTWUKdd"
      },
      "source": [
        ""
      ],
      "execution_count": null,
      "outputs": []
    },
    {
      "cell_type": "markdown",
      "metadata": {
        "id": "TohccBurUK_U"
      },
      "source": [
        "# Casting"
      ]
    },
    {
      "cell_type": "code",
      "metadata": {
        "colab": {
          "base_uri": "https://localhost:8080/"
        },
        "id": "wz42nXTdUMZb",
        "outputId": "09f554d3-371b-4fe8-ad35-dbad8c103a3c"
      },
      "source": [
        "m"
      ],
      "execution_count": 85,
      "outputs": [
        {
          "output_type": "execute_result",
          "data": {
            "text/plain": [
              "tensor([[1., 2., 3., 4.],\n",
              "        [5., 6., 7., 8.]])"
            ]
          },
          "metadata": {
            "tags": []
          },
          "execution_count": 85
        }
      ]
    },
    {
      "cell_type": "code",
      "metadata": {
        "colab": {
          "base_uri": "https://localhost:8080/"
        },
        "id": "4bBaxOIJUPJO",
        "outputId": "7766b532-1fca-48cb-b7ec-80d61ea710ff"
      },
      "source": [
        "m_double = m.double()\n",
        "m_double"
      ],
      "execution_count": 86,
      "outputs": [
        {
          "output_type": "execute_result",
          "data": {
            "text/plain": [
              "tensor([[1., 2., 3., 4.],\n",
              "        [5., 6., 7., 8.]], dtype=torch.float64)"
            ]
          },
          "metadata": {
            "tags": []
          },
          "execution_count": 86
        }
      ]
    },
    {
      "cell_type": "code",
      "metadata": {
        "colab": {
          "base_uri": "https://localhost:8080/"
        },
        "id": "OtM7AnDkUTrT",
        "outputId": "82bd6efa-adad-48d3-bb5a-b2c824682ef3"
      },
      "source": [
        "m_byte = m.byte()\n",
        "m_byte"
      ],
      "execution_count": 87,
      "outputs": [
        {
          "output_type": "execute_result",
          "data": {
            "text/plain": [
              "tensor([[1, 2, 3, 4],\n",
              "        [5, 6, 7, 8]], dtype=torch.uint8)"
            ]
          },
          "metadata": {
            "tags": []
          },
          "execution_count": 87
        }
      ]
    },
    {
      "cell_type": "code",
      "metadata": {
        "colab": {
          "base_uri": "https://localhost:8080/"
        },
        "id": "EaekfJwhUX2I",
        "outputId": "a3a10257-5a6f-49e7-c954-cfe30f5ff324"
      },
      "source": [
        "device = torch.device(\"cuda:0\" if torch.cuda.is_available() else \"cpu\")\n",
        "m.to(device)"
      ],
      "execution_count": 88,
      "outputs": [
        {
          "output_type": "execute_result",
          "data": {
            "text/plain": [
              "tensor([[1., 2., 3., 4.],\n",
              "        [5., 6., 7., 8.]])"
            ]
          },
          "metadata": {
            "tags": []
          },
          "execution_count": 88
        }
      ]
    },
    {
      "cell_type": "code",
      "metadata": {
        "colab": {
          "base_uri": "https://localhost:8080/"
        },
        "id": "4My4ufgiUZc8",
        "outputId": "a3daf14f-0bba-479e-b7d1-2ba1a61635ea"
      },
      "source": [
        "m_np = m.numpy()\n",
        "m_np"
      ],
      "execution_count": 89,
      "outputs": [
        {
          "output_type": "execute_result",
          "data": {
            "text/plain": [
              "array([[1., 2., 3., 4.],\n",
              "       [5., 6., 7., 8.]], dtype=float32)"
            ]
          },
          "metadata": {
            "tags": []
          },
          "execution_count": 89
        }
      ]
    },
    {
      "cell_type": "code",
      "metadata": {
        "colab": {
          "base_uri": "https://localhost:8080/"
        },
        "id": "dEnJBxGQUbhc",
        "outputId": "6671b6a5-4272-4244-a893-bea9401bcca4"
      },
      "source": [
        "m_np[0, 0] = -1\n",
        "m_np"
      ],
      "execution_count": 90,
      "outputs": [
        {
          "output_type": "execute_result",
          "data": {
            "text/plain": [
              "array([[-1.,  2.,  3.,  4.],\n",
              "       [ 5.,  6.,  7.,  8.]], dtype=float32)"
            ]
          },
          "metadata": {
            "tags": []
          },
          "execution_count": 90
        }
      ]
    },
    {
      "cell_type": "code",
      "metadata": {
        "colab": {
          "base_uri": "https://localhost:8080/"
        },
        "id": "TaIOZonsUfDs",
        "outputId": "10d3f985-77d9-4ceb-967a-593b6e0ef3e0"
      },
      "source": [
        "m"
      ],
      "execution_count": 91,
      "outputs": [
        {
          "output_type": "execute_result",
          "data": {
            "text/plain": [
              "tensor([[-1.,  2.,  3.,  4.],\n",
              "        [ 5.,  6.,  7.,  8.]])"
            ]
          },
          "metadata": {
            "tags": []
          },
          "execution_count": 91
        }
      ]
    },
    {
      "cell_type": "code",
      "metadata": {
        "colab": {
          "base_uri": "https://localhost:8080/"
        },
        "id": "r74wqH6wUhtG",
        "outputId": "e96983e7-e635-4f89-d708-a2d79a127219"
      },
      "source": [
        "import numpy as np\n",
        "n_np = np.arange(5)\n",
        "n = torch.from_numpy(n_np)\n",
        "print(n_np, n)"
      ],
      "execution_count": 92,
      "outputs": [
        {
          "output_type": "stream",
          "text": [
            "[0 1 2 3 4] tensor([0, 1, 2, 3, 4])\n"
          ],
          "name": "stdout"
        }
      ]
    },
    {
      "cell_type": "code",
      "metadata": {
        "colab": {
          "base_uri": "https://localhost:8080/"
        },
        "id": "nyVkwh9KUjcE",
        "outputId": "0fc217a0-ed03-41bf-9b64-fda1cd55a321"
      },
      "source": [
        "n.mul_(2)\n",
        "n_np"
      ],
      "execution_count": 93,
      "outputs": [
        {
          "output_type": "execute_result",
          "data": {
            "text/plain": [
              "array([0, 2, 4, 6, 8])"
            ]
          },
          "metadata": {
            "tags": []
          },
          "execution_count": 93
        }
      ]
    },
    {
      "cell_type": "code",
      "metadata": {
        "colab": {
          "base_uri": "https://localhost:8080/"
        },
        "id": "v64wIrmAUlYO",
        "outputId": "15a3ef49-f346-4912-9229-3e5366d97910"
      },
      "source": [
        "a = torch.Tensor([[1, 2, 3, 4]])\n",
        "b = torch.Tensor([[5, 6, 7, 8]])\n",
        "print(a.size(), b)"
      ],
      "execution_count": 94,
      "outputs": [
        {
          "output_type": "stream",
          "text": [
            "torch.Size([1, 4]) tensor([[5., 6., 7., 8.]])\n"
          ],
          "name": "stdout"
        }
      ]
    },
    {
      "cell_type": "code",
      "metadata": {
        "colab": {
          "base_uri": "https://localhost:8080/"
        },
        "id": "xyZp_1e7UpBK",
        "outputId": "4f5237e4-9b4a-4f1e-edc5-c97ab29b8c4f"
      },
      "source": [
        "torch.cat((a, b), 0)"
      ],
      "execution_count": 95,
      "outputs": [
        {
          "output_type": "execute_result",
          "data": {
            "text/plain": [
              "tensor([[1., 2., 3., 4.],\n",
              "        [5., 6., 7., 8.]])"
            ]
          },
          "metadata": {
            "tags": []
          },
          "execution_count": 95
        }
      ]
    },
    {
      "cell_type": "code",
      "metadata": {
        "colab": {
          "base_uri": "https://localhost:8080/"
        },
        "id": "YA7SuPXDUr4w",
        "outputId": "36537c07-9291-46f6-d4e7-a8d2ce4ebbbf"
      },
      "source": [
        "torch.cat((a, b), 1)\n"
      ],
      "execution_count": 96,
      "outputs": [
        {
          "output_type": "execute_result",
          "data": {
            "text/plain": [
              "tensor([[1., 2., 3., 4., 5., 6., 7., 8.]])"
            ]
          },
          "metadata": {
            "tags": []
          },
          "execution_count": 96
        }
      ]
    },
    {
      "cell_type": "code",
      "metadata": {
        "id": "dBZEBIisUuIC"
      },
      "source": [
        ""
      ],
      "execution_count": null,
      "outputs": []
    },
    {
      "cell_type": "markdown",
      "metadata": {
        "id": "9zlziopgU1Mv"
      },
      "source": [
        "# More documentation\n",
        "\n",
        "https://pytorch.org/docs/stable/index.html"
      ]
    },
    {
      "cell_type": "code",
      "metadata": {
        "id": "r2NJUNi7U03G"
      },
      "source": [
        ""
      ],
      "execution_count": null,
      "outputs": []
    }
  ]
}