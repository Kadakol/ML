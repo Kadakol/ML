{
  "nbformat": 4,
  "nbformat_minor": 0,
  "metadata": {
    "kernelspec": {
      "name": "python3",
      "display_name": "Python 3"
    },
    "language_info": {
      "codemirror_mode": {
        "name": "ipython",
        "version": 3
      },
      "file_extension": ".py",
      "mimetype": "text/x-python",
      "name": "python",
      "nbconvert_exporter": "python",
      "pygments_lexer": "ipython3",
      "version": "3.6.9"
    },
    "colab": {
      "name": "MNIST Data.ipynb",
      "provenance": [],
      "collapsed_sections": [],
      "include_colab_link": true
    },
    "accelerator": "TPU"
  },
  "cells": [
    {
      "cell_type": "markdown",
      "metadata": {
        "id": "view-in-github",
        "colab_type": "text"
      },
      "source": [
        "<a href=\"https://colab.research.google.com/github/Kadakol/ML/blob/master/MNIST_Data.ipynb\" target=\"_parent\"><img src=\"https://colab.research.google.com/assets/colab-badge.svg\" alt=\"Open In Colab\"/></a>"
      ]
    },
    {
      "cell_type": "code",
      "metadata": {
        "id": "zxfn2ISFCrD-",
        "colab_type": "code",
        "colab": {}
      },
      "source": [
        "from tensorflow.keras.datasets import mnist"
      ],
      "execution_count": 0,
      "outputs": []
    },
    {
      "cell_type": "code",
      "metadata": {
        "id": "FyaZ6RkBCrEB",
        "colab_type": "code",
        "colab": {}
      },
      "source": [
        "(train_images, train_labels), (test_images, test_labels) = mnist.load_data()"
      ],
      "execution_count": 0,
      "outputs": []
    },
    {
      "cell_type": "code",
      "metadata": {
        "id": "3oskN4N9CrED",
        "colab_type": "code",
        "outputId": "578de7fc-4dfc-49cc-97dc-7c9d34cc5119",
        "colab": {
          "base_uri": "https://localhost:8080/",
          "height": 34
        }
      },
      "source": [
        "train_images.shape"
      ],
      "execution_count": 0,
      "outputs": [
        {
          "output_type": "execute_result",
          "data": {
            "text/plain": [
              "(60000, 28, 28)"
            ]
          },
          "metadata": {
            "tags": []
          },
          "execution_count": 3
        }
      ]
    },
    {
      "cell_type": "code",
      "metadata": {
        "id": "LJeqCi2xCrEH",
        "colab_type": "code",
        "outputId": "0356ba25-096c-4dae-f336-de2b43d35bad",
        "colab": {
          "base_uri": "https://localhost:8080/",
          "height": 34
        }
      },
      "source": [
        "test_images.shape"
      ],
      "execution_count": 0,
      "outputs": [
        {
          "output_type": "execute_result",
          "data": {
            "text/plain": [
              "(10000, 28, 28)"
            ]
          },
          "metadata": {
            "tags": []
          },
          "execution_count": 4
        }
      ]
    },
    {
      "cell_type": "code",
      "metadata": {
        "id": "ZJBj6MuLCrEK",
        "colab_type": "code",
        "outputId": "97a40c65-5f8c-408f-f836-d2ec8d9e1b68",
        "colab": {
          "base_uri": "https://localhost:8080/",
          "height": 34
        }
      },
      "source": [
        "train_labels"
      ],
      "execution_count": 0,
      "outputs": [
        {
          "output_type": "execute_result",
          "data": {
            "text/plain": [
              "array([5, 0, 4, ..., 5, 6, 8], dtype=uint8)"
            ]
          },
          "metadata": {
            "tags": []
          },
          "execution_count": 5
        }
      ]
    },
    {
      "cell_type": "code",
      "metadata": {
        "id": "0FZim7T_CrEN",
        "colab_type": "code",
        "outputId": "33cda96e-4f09-44f9-8706-b2abfab60ddf",
        "colab": {
          "base_uri": "https://localhost:8080/",
          "height": 34
        }
      },
      "source": [
        "train_labels.shape"
      ],
      "execution_count": 0,
      "outputs": [
        {
          "output_type": "execute_result",
          "data": {
            "text/plain": [
              "(60000,)"
            ]
          },
          "metadata": {
            "tags": []
          },
          "execution_count": 6
        }
      ]
    },
    {
      "cell_type": "code",
      "metadata": {
        "id": "brhEHPHHCrER",
        "colab_type": "code",
        "outputId": "569b5086-a104-4a67-8b08-2071fa8cb330",
        "colab": {
          "base_uri": "https://localhost:8080/",
          "height": 34
        }
      },
      "source": [
        "test_labels"
      ],
      "execution_count": 0,
      "outputs": [
        {
          "output_type": "execute_result",
          "data": {
            "text/plain": [
              "array([7, 2, 1, ..., 4, 5, 6], dtype=uint8)"
            ]
          },
          "metadata": {
            "tags": []
          },
          "execution_count": 7
        }
      ]
    },
    {
      "cell_type": "code",
      "metadata": {
        "id": "Al18qgLdCrEU",
        "colab_type": "code",
        "outputId": "6e2c4b6b-7c22-4576-fa09-5520905f4117",
        "colab": {
          "base_uri": "https://localhost:8080/",
          "height": 34
        }
      },
      "source": [
        "test_labels.shape"
      ],
      "execution_count": 0,
      "outputs": [
        {
          "output_type": "execute_result",
          "data": {
            "text/plain": [
              "(10000,)"
            ]
          },
          "metadata": {
            "tags": []
          },
          "execution_count": 8
        }
      ]
    },
    {
      "cell_type": "code",
      "metadata": {
        "id": "zLgdIV57CrEX",
        "colab_type": "code",
        "colab": {}
      },
      "source": [
        "train_images = train_images.reshape((60000, 28 * 28))\n",
        "train_images = train_images.astype('float32') / 255"
      ],
      "execution_count": 0,
      "outputs": []
    },
    {
      "cell_type": "code",
      "metadata": {
        "id": "X-szPuKlCrEa",
        "colab_type": "code",
        "colab": {}
      },
      "source": [
        "test_images = test_images.reshape((10000, 28 * 28))\n",
        "test_images = test_images.astype('float32') / 255"
      ],
      "execution_count": 0,
      "outputs": []
    },
    {
      "cell_type": "code",
      "metadata": {
        "id": "GmpLTY4KCrEd",
        "colab_type": "code",
        "colab": {}
      },
      "source": [
        "from tensorflow.keras.utils import to_categorical"
      ],
      "execution_count": 0,
      "outputs": []
    },
    {
      "cell_type": "code",
      "metadata": {
        "id": "x4Z42wJPCrEf",
        "colab_type": "code",
        "colab": {}
      },
      "source": [
        "train_labels = to_categorical(train_labels)\n",
        "test_labels = to_categorical(test_labels)"
      ],
      "execution_count": 0,
      "outputs": []
    },
    {
      "cell_type": "code",
      "metadata": {
        "id": "vefY4JotCrEi",
        "colab_type": "code",
        "outputId": "0219faa1-5ea4-4452-98e8-39feb8e0d228",
        "colab": {
          "base_uri": "https://localhost:8080/",
          "height": 136
        }
      },
      "source": [
        "train_labels"
      ],
      "execution_count": 0,
      "outputs": [
        {
          "output_type": "execute_result",
          "data": {
            "text/plain": [
              "array([[0., 0., 0., ..., 0., 0., 0.],\n",
              "       [1., 0., 0., ..., 0., 0., 0.],\n",
              "       [0., 0., 0., ..., 0., 0., 0.],\n",
              "       ...,\n",
              "       [0., 0., 0., ..., 0., 0., 0.],\n",
              "       [0., 0., 0., ..., 0., 0., 0.],\n",
              "       [0., 0., 0., ..., 0., 1., 0.]], dtype=float32)"
            ]
          },
          "metadata": {
            "tags": []
          },
          "execution_count": 13
        }
      ]
    },
    {
      "cell_type": "code",
      "metadata": {
        "id": "kO39gu8eCrEl",
        "colab_type": "code",
        "outputId": "6c79e62a-5190-46c1-dcbe-60eb23119f3d",
        "colab": {
          "base_uri": "https://localhost:8080/",
          "height": 136
        }
      },
      "source": [
        "test_labels"
      ],
      "execution_count": 0,
      "outputs": [
        {
          "output_type": "execute_result",
          "data": {
            "text/plain": [
              "array([[0., 0., 0., ..., 1., 0., 0.],\n",
              "       [0., 0., 1., ..., 0., 0., 0.],\n",
              "       [0., 1., 0., ..., 0., 0., 0.],\n",
              "       ...,\n",
              "       [0., 0., 0., ..., 0., 0., 0.],\n",
              "       [0., 0., 0., ..., 0., 0., 0.],\n",
              "       [0., 0., 0., ..., 0., 0., 0.]], dtype=float32)"
            ]
          },
          "metadata": {
            "tags": []
          },
          "execution_count": 14
        }
      ]
    },
    {
      "cell_type": "code",
      "metadata": {
        "id": "eIB2Q-V1DtgI",
        "colab_type": "code",
        "colab": {}
      },
      "source": [
        "from tensorflow.keras import models\n",
        "from tensorflow.keras import layers"
      ],
      "execution_count": 0,
      "outputs": []
    },
    {
      "cell_type": "code",
      "metadata": {
        "id": "EkNTR_1eCrEr",
        "colab_type": "code",
        "colab": {}
      },
      "source": [
        "def create_and_test_model(dropout_1, dropout_2, results):\n",
        "    model = models.Sequential()\n",
        "    model.add(layer = layers.Dense(256, activation=\"relu\", input_shape=(28 * 28,)))\n",
        "    model.add(layers.Dropout(dropout_1))\n",
        "    model.add(layer = layers.Dense(64, activation=\"relu\"))\n",
        "    model.add(layers.Dropout(dropout_2))\n",
        "    model.add(layers.Dense(10, activation=\"softmax\"))\n",
        "    model.compile(optimizer='rmsprop',\n",
        "             loss='categorical_crossentropy',\n",
        "             metrics=['accuracy'])\n",
        "    model.fit(train_images, train_labels, epochs=25, batch_size=512, verbose=2)\n",
        "    test_loss, test_acc = model.evaluate(test_images, test_labels, verbose=2)\n",
        "    results.append((dropout_1, dropout_2, test_acc))"
      ],
      "execution_count": 0,
      "outputs": []
    },
    {
      "cell_type": "code",
      "metadata": {
        "id": "y7k1EV5hCrE_",
        "colab_type": "code",
        "outputId": "06e6ab36-19a1-42fa-eabf-5d1c2cf06839",
        "colab": {
          "base_uri": "https://localhost:8080/",
          "height": 1000
        }
      },
      "source": [
        "import numpy as np\n",
        "\n",
        "results = []\n",
        "dropouts = np.random.uniform(size=10, low=0, high=0.5)\n",
        "\n",
        "print(dropouts)\n",
        "\n",
        "for i in range(int(len(dropouts) / 2)):\n",
        "    print(\"Running model with dropout_1 = {0} and dropout_2 = {1}\".format(dropouts[i], dropouts[i + int(len(dropouts)/2)]))\n",
        "    create_and_test_model(dropouts[i], dropouts[i + int(len(dropouts)/2)], results)\n",
        "    \n",
        "print(\"Results\");\n",
        "print('-' * 50)\n",
        "for item in results:\n",
        "    print('dropout_1 = {0}, dropout_2 = {1}, accuracy = {2}'.format(item[0], item[1], item[2]));\n",
        "print('-' * 50)"
      ],
      "execution_count": 0,
      "outputs": [
        {
          "output_type": "stream",
          "text": [
            "[0.07476591 0.21307081 0.37153159 0.4438474  0.12997783 0.42272933\n",
            " 0.28346966 0.32960557 0.15381767 0.41528648]\n",
            "Running model with dropout_1 = 0.07476590974255592 and dropout_2 = 0.4227293273568066\n",
            "WARNING:tensorflow:From /usr/local/lib/python3.6/dist-packages/tensorflow_core/python/ops/resource_variable_ops.py:1630: calling BaseResourceVariable.__init__ (from tensorflow.python.ops.resource_variable_ops) with constraint is deprecated and will be removed in a future version.\n",
            "Instructions for updating:\n",
            "If using Keras pass *_constraint arguments to layers.\n",
            "Train on 60000 samples\n",
            "Epoch 1/25\n",
            "60000/60000 - 2s - loss: 0.5814 - acc: 0.8284\n",
            "Epoch 2/25\n",
            "60000/60000 - 2s - loss: 0.2497 - acc: 0.9288\n",
            "Epoch 3/25\n",
            "60000/60000 - 2s - loss: 0.1747 - acc: 0.9500\n",
            "Epoch 4/25\n",
            "60000/60000 - 2s - loss: 0.1367 - acc: 0.9611\n",
            "Epoch 5/25\n",
            "60000/60000 - 2s - loss: 0.1126 - acc: 0.9674\n",
            "Epoch 6/25\n",
            "60000/60000 - 2s - loss: 0.0966 - acc: 0.9722\n",
            "Epoch 7/25\n",
            "60000/60000 - 2s - loss: 0.0814 - acc: 0.9766\n",
            "Epoch 8/25\n",
            "60000/60000 - 2s - loss: 0.0737 - acc: 0.9785\n",
            "Epoch 9/25\n",
            "60000/60000 - 2s - loss: 0.0653 - acc: 0.9808\n",
            "Epoch 10/25\n",
            "60000/60000 - 2s - loss: 0.0584 - acc: 0.9821\n",
            "Epoch 11/25\n",
            "60000/60000 - 2s - loss: 0.0505 - acc: 0.9847\n",
            "Epoch 12/25\n",
            "60000/60000 - 2s - loss: 0.0456 - acc: 0.9863\n",
            "Epoch 13/25\n",
            "60000/60000 - 2s - loss: 0.0411 - acc: 0.9877\n",
            "Epoch 14/25\n",
            "60000/60000 - 2s - loss: 0.0382 - acc: 0.9884\n",
            "Epoch 15/25\n",
            "60000/60000 - 2s - loss: 0.0350 - acc: 0.9893\n",
            "Epoch 16/25\n",
            "60000/60000 - 2s - loss: 0.0319 - acc: 0.9901\n",
            "Epoch 17/25\n",
            "60000/60000 - 2s - loss: 0.0308 - acc: 0.9909\n",
            "Epoch 18/25\n",
            "60000/60000 - 2s - loss: 0.0270 - acc: 0.9919\n",
            "Epoch 19/25\n",
            "60000/60000 - 2s - loss: 0.0262 - acc: 0.9920\n",
            "Epoch 20/25\n",
            "60000/60000 - 2s - loss: 0.0235 - acc: 0.9924\n",
            "Epoch 21/25\n",
            "60000/60000 - 2s - loss: 0.0221 - acc: 0.9934\n",
            "Epoch 22/25\n",
            "60000/60000 - 2s - loss: 0.0216 - acc: 0.9933\n",
            "Epoch 23/25\n",
            "60000/60000 - 2s - loss: 0.0205 - acc: 0.9935\n",
            "Epoch 24/25\n",
            "60000/60000 - 2s - loss: 0.0176 - acc: 0.9943\n",
            "Epoch 25/25\n",
            "60000/60000 - 2s - loss: 0.0166 - acc: 0.9946\n",
            "10000/10000 - 0s - loss: 0.0862 - acc: 0.9816\n",
            "Running model with dropout_1 = 0.21307081138809808 and dropout_2 = 0.2834696583798367\n",
            "Train on 60000 samples\n",
            "Epoch 1/25\n",
            "60000/60000 - 2s - loss: 0.5539 - acc: 0.8331\n",
            "Epoch 2/25\n",
            "60000/60000 - 2s - loss: 0.2372 - acc: 0.9307\n",
            "Epoch 3/25\n",
            "60000/60000 - 2s - loss: 0.1717 - acc: 0.9499\n",
            "Epoch 4/25\n",
            "60000/60000 - 2s - loss: 0.1347 - acc: 0.9603\n",
            "Epoch 5/25\n",
            "60000/60000 - 2s - loss: 0.1113 - acc: 0.9671\n",
            "Epoch 6/25\n",
            "60000/60000 - 2s - loss: 0.0960 - acc: 0.9721\n",
            "Epoch 7/25\n",
            "60000/60000 - 2s - loss: 0.0843 - acc: 0.9749\n",
            "Epoch 8/25\n",
            "60000/60000 - 2s - loss: 0.0752 - acc: 0.9774\n",
            "Epoch 9/25\n",
            "60000/60000 - 2s - loss: 0.0683 - acc: 0.9793\n",
            "Epoch 10/25\n",
            "60000/60000 - 2s - loss: 0.0621 - acc: 0.9811\n",
            "Epoch 11/25\n",
            "60000/60000 - 2s - loss: 0.0562 - acc: 0.9822\n",
            "Epoch 12/25\n",
            "60000/60000 - 2s - loss: 0.0536 - acc: 0.9833\n",
            "Epoch 13/25\n",
            "60000/60000 - 2s - loss: 0.0470 - acc: 0.9850\n",
            "Epoch 14/25\n",
            "60000/60000 - 2s - loss: 0.0448 - acc: 0.9858\n",
            "Epoch 15/25\n",
            "60000/60000 - 2s - loss: 0.0428 - acc: 0.9870\n",
            "Epoch 16/25\n",
            "60000/60000 - 2s - loss: 0.0396 - acc: 0.9877\n",
            "Epoch 17/25\n",
            "60000/60000 - 2s - loss: 0.0384 - acc: 0.9878\n",
            "Epoch 18/25\n",
            "60000/60000 - 2s - loss: 0.0333 - acc: 0.9892\n",
            "Epoch 19/25\n",
            "60000/60000 - 2s - loss: 0.0335 - acc: 0.9890\n",
            "Epoch 20/25\n",
            "60000/60000 - 2s - loss: 0.0307 - acc: 0.9902\n",
            "Epoch 21/25\n",
            "60000/60000 - 2s - loss: 0.0295 - acc: 0.9906\n",
            "Epoch 22/25\n",
            "60000/60000 - 2s - loss: 0.0276 - acc: 0.9910\n",
            "Epoch 23/25\n",
            "60000/60000 - 2s - loss: 0.0272 - acc: 0.9911\n",
            "Epoch 24/25\n",
            "60000/60000 - 2s - loss: 0.0245 - acc: 0.9923\n",
            "Epoch 25/25\n",
            "60000/60000 - 2s - loss: 0.0253 - acc: 0.9921\n",
            "10000/10000 - 0s - loss: 0.0693 - acc: 0.9827\n",
            "Running model with dropout_1 = 0.37153158570880146 and dropout_2 = 0.3296055670703753\n",
            "Train on 60000 samples\n",
            "Epoch 1/25\n",
            "60000/60000 - 2s - loss: 0.6254 - acc: 0.8108\n",
            "Epoch 2/25\n",
            "60000/60000 - 2s - loss: 0.2834 - acc: 0.9175\n",
            "Epoch 3/25\n",
            "60000/60000 - 2s - loss: 0.2107 - acc: 0.9403\n",
            "Epoch 4/25\n",
            "60000/60000 - 2s - loss: 0.1728 - acc: 0.9498\n",
            "Epoch 5/25\n",
            "60000/60000 - 2s - loss: 0.1455 - acc: 0.9578\n",
            "Epoch 6/25\n",
            "60000/60000 - 2s - loss: 0.1302 - acc: 0.9624\n",
            "Epoch 7/25\n",
            "60000/60000 - 2s - loss: 0.1144 - acc: 0.9671\n",
            "Epoch 8/25\n",
            "60000/60000 - 2s - loss: 0.1048 - acc: 0.9703\n",
            "Epoch 9/25\n",
            "60000/60000 - 2s - loss: 0.0967 - acc: 0.9716\n",
            "Epoch 10/25\n",
            "60000/60000 - 2s - loss: 0.0883 - acc: 0.9741\n",
            "Epoch 11/25\n",
            "60000/60000 - 2s - loss: 0.0834 - acc: 0.9752\n",
            "Epoch 12/25\n",
            "60000/60000 - 2s - loss: 0.0782 - acc: 0.9777\n",
            "Epoch 13/25\n",
            "60000/60000 - 2s - loss: 0.0732 - acc: 0.9782\n",
            "Epoch 14/25\n",
            "60000/60000 - 2s - loss: 0.0667 - acc: 0.9798\n",
            "Epoch 15/25\n",
            "60000/60000 - 2s - loss: 0.0654 - acc: 0.9806\n",
            "Epoch 16/25\n",
            "60000/60000 - 2s - loss: 0.0626 - acc: 0.9816\n",
            "Epoch 17/25\n",
            "60000/60000 - 2s - loss: 0.0610 - acc: 0.9816\n",
            "Epoch 18/25\n",
            "60000/60000 - 2s - loss: 0.0588 - acc: 0.9829\n",
            "Epoch 19/25\n",
            "60000/60000 - 2s - loss: 0.0562 - acc: 0.9827\n",
            "Epoch 20/25\n",
            "60000/60000 - 2s - loss: 0.0531 - acc: 0.9837\n",
            "Epoch 21/25\n",
            "60000/60000 - 2s - loss: 0.0524 - acc: 0.9836\n",
            "Epoch 22/25\n",
            "60000/60000 - 2s - loss: 0.0510 - acc: 0.9844\n",
            "Epoch 23/25\n",
            "60000/60000 - 2s - loss: 0.0496 - acc: 0.9846\n",
            "Epoch 24/25\n",
            "60000/60000 - 2s - loss: 0.0483 - acc: 0.9855\n",
            "Epoch 25/25\n",
            "60000/60000 - 2s - loss: 0.0428 - acc: 0.9867\n",
            "10000/10000 - 0s - loss: 0.0761 - acc: 0.9814\n",
            "Running model with dropout_1 = 0.4438473992706803 and dropout_2 = 0.15381767429174759\n",
            "Train on 60000 samples\n",
            "Epoch 1/25\n",
            "60000/60000 - 2s - loss: 0.5722 - acc: 0.8270\n",
            "Epoch 2/25\n",
            "60000/60000 - 2s - loss: 0.2637 - acc: 0.9210\n",
            "Epoch 3/25\n",
            "60000/60000 - 2s - loss: 0.1955 - acc: 0.9411\n",
            "Epoch 4/25\n",
            "60000/60000 - 2s - loss: 0.1601 - acc: 0.9523\n",
            "Epoch 5/25\n",
            "60000/60000 - 2s - loss: 0.1374 - acc: 0.9591\n",
            "Epoch 6/25\n",
            "60000/60000 - 2s - loss: 0.1219 - acc: 0.9634\n",
            "Epoch 7/25\n",
            "60000/60000 - 2s - loss: 0.1135 - acc: 0.9652\n",
            "Epoch 8/25\n",
            "60000/60000 - 2s - loss: 0.1024 - acc: 0.9694\n",
            "Epoch 9/25\n",
            "60000/60000 - 2s - loss: 0.0937 - acc: 0.9715\n",
            "Epoch 10/25\n",
            "60000/60000 - 2s - loss: 0.0862 - acc: 0.9728\n",
            "Epoch 11/25\n",
            "60000/60000 - 2s - loss: 0.0838 - acc: 0.9744\n",
            "Epoch 12/25\n",
            "60000/60000 - 2s - loss: 0.0785 - acc: 0.9755\n",
            "Epoch 13/25\n",
            "60000/60000 - 2s - loss: 0.0736 - acc: 0.9772\n",
            "Epoch 14/25\n",
            "60000/60000 - 2s - loss: 0.0689 - acc: 0.9783\n",
            "Epoch 15/25\n",
            "60000/60000 - 2s - loss: 0.0675 - acc: 0.9792\n",
            "Epoch 16/25\n",
            "60000/60000 - 2s - loss: 0.0638 - acc: 0.9802\n",
            "Epoch 17/25\n",
            "60000/60000 - 2s - loss: 0.0631 - acc: 0.9805\n",
            "Epoch 18/25\n",
            "60000/60000 - 2s - loss: 0.0586 - acc: 0.9816\n",
            "Epoch 19/25\n",
            "60000/60000 - 2s - loss: 0.0571 - acc: 0.9815\n",
            "Epoch 20/25\n",
            "60000/60000 - 2s - loss: 0.0531 - acc: 0.9825\n",
            "Epoch 21/25\n",
            "60000/60000 - 2s - loss: 0.0531 - acc: 0.9829\n",
            "Epoch 22/25\n",
            "60000/60000 - 2s - loss: 0.0499 - acc: 0.9842\n",
            "Epoch 23/25\n",
            "60000/60000 - 2s - loss: 0.0527 - acc: 0.9835\n",
            "Epoch 24/25\n",
            "60000/60000 - 2s - loss: 0.0462 - acc: 0.9852\n",
            "Epoch 25/25\n",
            "60000/60000 - 2s - loss: 0.0473 - acc: 0.9844\n",
            "10000/10000 - 0s - loss: 0.0715 - acc: 0.9810\n",
            "Running model with dropout_1 = 0.129977832749072 and dropout_2 = 0.4152864773624046\n",
            "Train on 60000 samples\n",
            "Epoch 1/25\n",
            "60000/60000 - 2s - loss: 0.5812 - acc: 0.8256\n",
            "Epoch 2/25\n",
            "60000/60000 - 2s - loss: 0.2640 - acc: 0.9253\n",
            "Epoch 3/25\n",
            "60000/60000 - 2s - loss: 0.1873 - acc: 0.9468\n",
            "Epoch 4/25\n",
            "60000/60000 - 2s - loss: 0.1499 - acc: 0.9572\n",
            "Epoch 5/25\n",
            "60000/60000 - 2s - loss: 0.1247 - acc: 0.9646\n",
            "Epoch 6/25\n",
            "60000/60000 - 2s - loss: 0.1056 - acc: 0.9699\n",
            "Epoch 7/25\n",
            "60000/60000 - 2s - loss: 0.0949 - acc: 0.9727\n",
            "Epoch 8/25\n",
            "60000/60000 - 2s - loss: 0.0837 - acc: 0.9753\n",
            "Epoch 9/25\n",
            "60000/60000 - 2s - loss: 0.0742 - acc: 0.9779\n",
            "Epoch 10/25\n",
            "60000/60000 - 2s - loss: 0.0659 - acc: 0.9807\n",
            "Epoch 11/25\n",
            "60000/60000 - 2s - loss: 0.0598 - acc: 0.9819\n",
            "Epoch 12/25\n",
            "60000/60000 - 2s - loss: 0.0546 - acc: 0.9839\n",
            "Epoch 13/25\n",
            "60000/60000 - 2s - loss: 0.0490 - acc: 0.9848\n",
            "Epoch 14/25\n",
            "60000/60000 - 2s - loss: 0.0450 - acc: 0.9865\n",
            "Epoch 15/25\n",
            "60000/60000 - 2s - loss: 0.0421 - acc: 0.9871\n",
            "Epoch 16/25\n",
            "60000/60000 - 2s - loss: 0.0381 - acc: 0.9887\n",
            "Epoch 17/25\n",
            "60000/60000 - 2s - loss: 0.0354 - acc: 0.9884\n",
            "Epoch 18/25\n",
            "60000/60000 - 2s - loss: 0.0358 - acc: 0.9887\n",
            "Epoch 19/25\n",
            "60000/60000 - 2s - loss: 0.0305 - acc: 0.9906\n",
            "Epoch 20/25\n",
            "60000/60000 - 2s - loss: 0.0297 - acc: 0.9908\n",
            "Epoch 21/25\n",
            "60000/60000 - 2s - loss: 0.0276 - acc: 0.9913\n",
            "Epoch 22/25\n",
            "60000/60000 - 2s - loss: 0.0279 - acc: 0.9912\n",
            "Epoch 23/25\n",
            "60000/60000 - 2s - loss: 0.0237 - acc: 0.9919\n",
            "Epoch 24/25\n",
            "60000/60000 - 2s - loss: 0.0245 - acc: 0.9923\n",
            "Epoch 25/25\n",
            "60000/60000 - 2s - loss: 0.0222 - acc: 0.9927\n",
            "10000/10000 - 0s - loss: 0.0798 - acc: 0.9820\n",
            "Results\n",
            "--------------------------------------------------\n",
            "dropout_1 = 0.07476590974255592, dropout_2 = 0.4227293273568066, accuracy = 0.9815999865531921\n",
            "dropout_1 = 0.21307081138809808, dropout_2 = 0.2834696583798367, accuracy = 0.982699990272522\n",
            "dropout_1 = 0.37153158570880146, dropout_2 = 0.3296055670703753, accuracy = 0.9814000129699707\n",
            "dropout_1 = 0.4438473992706803, dropout_2 = 0.15381767429174759, accuracy = 0.9810000061988831\n",
            "dropout_1 = 0.129977832749072, dropout_2 = 0.4152864773624046, accuracy = 0.9819999933242798\n",
            "--------------------------------------------------\n"
          ],
          "name": "stdout"
        }
      ]
    },
    {
      "cell_type": "code",
      "metadata": {
        "id": "4UQG-3fICrFC",
        "colab_type": "code",
        "outputId": "7644d051-c1e4-46bb-df20-e12cea48b5ab",
        "colab": {
          "base_uri": "https://localhost:8080/",
          "height": 102
        }
      },
      "source": [
        "sorted(results, key=lambda x:x[2])"
      ],
      "execution_count": 0,
      "outputs": [
        {
          "output_type": "execute_result",
          "data": {
            "text/plain": [
              "[(0.4438473992706803, 0.15381767429174759, 0.981),\n",
              " (0.37153158570880146, 0.3296055670703753, 0.9814),\n",
              " (0.07476590974255592, 0.4227293273568066, 0.9816),\n",
              " (0.129977832749072, 0.4152864773624046, 0.982),\n",
              " (0.21307081138809808, 0.2834696583798367, 0.9827)]"
            ]
          },
          "metadata": {
            "tags": []
          },
          "execution_count": 18
        }
      ]
    },
    {
      "cell_type": "code",
      "metadata": {
        "id": "4rMbA-DPEXCF",
        "colab_type": "code",
        "colab": {}
      },
      "source": [
        ""
      ],
      "execution_count": 0,
      "outputs": []
    }
  ]
}